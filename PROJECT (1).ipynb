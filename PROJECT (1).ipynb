{
 "cells": [
  {
   "cell_type": "code",
   "execution_count": 1,
   "id": "8cb59f8b",
   "metadata": {},
   "outputs": [],
   "source": [
    "import matplotlib.pyplot as plt\n",
    "import pandas as pd\n",
    "import seaborn as sns\n",
    "import numpy as np\n",
    "#problem statement\n",
    "#proposed soln , obj\n",
    "#variables used\n"
   ]
  },
  {
   "cell_type": "code",
   "execution_count": 2,
   "id": "5064d83b",
   "metadata": {},
   "outputs": [],
   "source": [
    "import os"
   ]
  },
  {
   "cell_type": "code",
   "execution_count": 45,
   "id": "c9b4c64d",
   "metadata": {},
   "outputs": [],
   "source": [
    "df=pd.read_csv('SS.csv',encoding='ISO-8859-1')"
   ]
  },
  {
   "cell_type": "code",
   "execution_count": 7,
   "id": "a0ab6bbd",
   "metadata": {},
   "outputs": [
    {
     "name": "stdout",
     "output_type": "stream",
     "text": [
      "(9994, 21)\n"
     ]
    }
   ],
   "source": [
    "print(df.shape)"
   ]
  },
  {
   "cell_type": "code",
   "execution_count": 131,
   "id": "560909f4",
   "metadata": {},
   "outputs": [
    {
     "name": "stdout",
     "output_type": "stream",
     "text": [
      "object\n"
     ]
    }
   ],
   "source": [
    "print(df['Category'].dtypes)\n"
   ]
  },
  {
   "cell_type": "code",
   "execution_count": 8,
   "id": "6ecb63f4",
   "metadata": {},
   "outputs": [
    {
     "data": {
      "text/html": [
       "<div>\n",
       "<style scoped>\n",
       "    .dataframe tbody tr th:only-of-type {\n",
       "        vertical-align: middle;\n",
       "    }\n",
       "\n",
       "    .dataframe tbody tr th {\n",
       "        vertical-align: top;\n",
       "    }\n",
       "\n",
       "    .dataframe thead th {\n",
       "        text-align: right;\n",
       "    }\n",
       "</style>\n",
       "<table border=\"1\" class=\"dataframe\">\n",
       "  <thead>\n",
       "    <tr style=\"text-align: right;\">\n",
       "      <th></th>\n",
       "      <th>Row ID</th>\n",
       "      <th>Order ID</th>\n",
       "      <th>Order Date</th>\n",
       "      <th>Ship Date</th>\n",
       "      <th>Ship Mode</th>\n",
       "      <th>Customer ID</th>\n",
       "      <th>Customer Name</th>\n",
       "      <th>Segment</th>\n",
       "      <th>Country</th>\n",
       "      <th>City</th>\n",
       "      <th>...</th>\n",
       "      <th>Postal Code</th>\n",
       "      <th>Region</th>\n",
       "      <th>Product ID</th>\n",
       "      <th>Category</th>\n",
       "      <th>Sub-Category</th>\n",
       "      <th>Product Name</th>\n",
       "      <th>Sales</th>\n",
       "      <th>Quantity</th>\n",
       "      <th>Discount</th>\n",
       "      <th>Profit</th>\n",
       "    </tr>\n",
       "  </thead>\n",
       "  <tbody>\n",
       "    <tr>\n",
       "      <th>0</th>\n",
       "      <td>1</td>\n",
       "      <td>CA-2016-152156</td>\n",
       "      <td>11/8/2016</td>\n",
       "      <td>11/11/2016</td>\n",
       "      <td>Second Class</td>\n",
       "      <td>CG-12520</td>\n",
       "      <td>Claire Gute</td>\n",
       "      <td>Consumer</td>\n",
       "      <td>United States</td>\n",
       "      <td>Henderson</td>\n",
       "      <td>...</td>\n",
       "      <td>42420</td>\n",
       "      <td>South</td>\n",
       "      <td>FUR-BO-10001798</td>\n",
       "      <td>Furniture</td>\n",
       "      <td>Bookcases</td>\n",
       "      <td>Bush Somerset Collection Bookcase</td>\n",
       "      <td>261.9600</td>\n",
       "      <td>2</td>\n",
       "      <td>0.00</td>\n",
       "      <td>41.9136</td>\n",
       "    </tr>\n",
       "    <tr>\n",
       "      <th>1</th>\n",
       "      <td>2</td>\n",
       "      <td>CA-2016-152156</td>\n",
       "      <td>11/8/2016</td>\n",
       "      <td>11/11/2016</td>\n",
       "      <td>Second Class</td>\n",
       "      <td>CG-12520</td>\n",
       "      <td>Claire Gute</td>\n",
       "      <td>Consumer</td>\n",
       "      <td>United States</td>\n",
       "      <td>Henderson</td>\n",
       "      <td>...</td>\n",
       "      <td>42420</td>\n",
       "      <td>South</td>\n",
       "      <td>FUR-CH-10000454</td>\n",
       "      <td>Furniture</td>\n",
       "      <td>Chairs</td>\n",
       "      <td>Hon Deluxe Fabric Upholstered Stacking Chairs,...</td>\n",
       "      <td>731.9400</td>\n",
       "      <td>3</td>\n",
       "      <td>0.00</td>\n",
       "      <td>219.5820</td>\n",
       "    </tr>\n",
       "    <tr>\n",
       "      <th>2</th>\n",
       "      <td>3</td>\n",
       "      <td>CA-2016-138688</td>\n",
       "      <td>6/12/2016</td>\n",
       "      <td>6/16/2016</td>\n",
       "      <td>Second Class</td>\n",
       "      <td>DV-13045</td>\n",
       "      <td>Darrin Van Huff</td>\n",
       "      <td>Corporate</td>\n",
       "      <td>United States</td>\n",
       "      <td>Los Angeles</td>\n",
       "      <td>...</td>\n",
       "      <td>90036</td>\n",
       "      <td>West</td>\n",
       "      <td>OFF-LA-10000240</td>\n",
       "      <td>Office Supplies</td>\n",
       "      <td>Labels</td>\n",
       "      <td>Self-Adhesive Address Labels for Typewriters b...</td>\n",
       "      <td>14.6200</td>\n",
       "      <td>2</td>\n",
       "      <td>0.00</td>\n",
       "      <td>6.8714</td>\n",
       "    </tr>\n",
       "    <tr>\n",
       "      <th>3</th>\n",
       "      <td>4</td>\n",
       "      <td>US-2015-108966</td>\n",
       "      <td>10/11/2015</td>\n",
       "      <td>10/18/2015</td>\n",
       "      <td>Standard Class</td>\n",
       "      <td>SO-20335</td>\n",
       "      <td>Sean O'Donnell</td>\n",
       "      <td>Consumer</td>\n",
       "      <td>United States</td>\n",
       "      <td>Fort Lauderdale</td>\n",
       "      <td>...</td>\n",
       "      <td>33311</td>\n",
       "      <td>South</td>\n",
       "      <td>FUR-TA-10000577</td>\n",
       "      <td>Furniture</td>\n",
       "      <td>Tables</td>\n",
       "      <td>Bretford CR4500 Series Slim Rectangular Table</td>\n",
       "      <td>957.5775</td>\n",
       "      <td>5</td>\n",
       "      <td>0.45</td>\n",
       "      <td>-383.0310</td>\n",
       "    </tr>\n",
       "    <tr>\n",
       "      <th>4</th>\n",
       "      <td>5</td>\n",
       "      <td>US-2015-108966</td>\n",
       "      <td>10/11/2015</td>\n",
       "      <td>10/18/2015</td>\n",
       "      <td>Standard Class</td>\n",
       "      <td>SO-20335</td>\n",
       "      <td>Sean O'Donnell</td>\n",
       "      <td>Consumer</td>\n",
       "      <td>United States</td>\n",
       "      <td>Fort Lauderdale</td>\n",
       "      <td>...</td>\n",
       "      <td>33311</td>\n",
       "      <td>South</td>\n",
       "      <td>OFF-ST-10000760</td>\n",
       "      <td>Office Supplies</td>\n",
       "      <td>Storage</td>\n",
       "      <td>Eldon Fold 'N Roll Cart System</td>\n",
       "      <td>22.3680</td>\n",
       "      <td>2</td>\n",
       "      <td>0.20</td>\n",
       "      <td>2.5164</td>\n",
       "    </tr>\n",
       "  </tbody>\n",
       "</table>\n",
       "<p>5 rows × 21 columns</p>\n",
       "</div>"
      ],
      "text/plain": [
       "   Row ID        Order ID  Order Date   Ship Date       Ship Mode Customer ID  \\\n",
       "0       1  CA-2016-152156   11/8/2016  11/11/2016    Second Class    CG-12520   \n",
       "1       2  CA-2016-152156   11/8/2016  11/11/2016    Second Class    CG-12520   \n",
       "2       3  CA-2016-138688   6/12/2016   6/16/2016    Second Class    DV-13045   \n",
       "3       4  US-2015-108966  10/11/2015  10/18/2015  Standard Class    SO-20335   \n",
       "4       5  US-2015-108966  10/11/2015  10/18/2015  Standard Class    SO-20335   \n",
       "\n",
       "     Customer Name    Segment        Country             City  ...  \\\n",
       "0      Claire Gute   Consumer  United States        Henderson  ...   \n",
       "1      Claire Gute   Consumer  United States        Henderson  ...   \n",
       "2  Darrin Van Huff  Corporate  United States      Los Angeles  ...   \n",
       "3   Sean O'Donnell   Consumer  United States  Fort Lauderdale  ...   \n",
       "4   Sean O'Donnell   Consumer  United States  Fort Lauderdale  ...   \n",
       "\n",
       "  Postal Code  Region       Product ID         Category Sub-Category  \\\n",
       "0       42420   South  FUR-BO-10001798        Furniture    Bookcases   \n",
       "1       42420   South  FUR-CH-10000454        Furniture       Chairs   \n",
       "2       90036    West  OFF-LA-10000240  Office Supplies       Labels   \n",
       "3       33311   South  FUR-TA-10000577        Furniture       Tables   \n",
       "4       33311   South  OFF-ST-10000760  Office Supplies      Storage   \n",
       "\n",
       "                                        Product Name     Sales  Quantity  \\\n",
       "0                  Bush Somerset Collection Bookcase  261.9600         2   \n",
       "1  Hon Deluxe Fabric Upholstered Stacking Chairs,...  731.9400         3   \n",
       "2  Self-Adhesive Address Labels for Typewriters b...   14.6200         2   \n",
       "3      Bretford CR4500 Series Slim Rectangular Table  957.5775         5   \n",
       "4                     Eldon Fold 'N Roll Cart System   22.3680         2   \n",
       "\n",
       "   Discount    Profit  \n",
       "0      0.00   41.9136  \n",
       "1      0.00  219.5820  \n",
       "2      0.00    6.8714  \n",
       "3      0.45 -383.0310  \n",
       "4      0.20    2.5164  \n",
       "\n",
       "[5 rows x 21 columns]"
      ]
     },
     "execution_count": 8,
     "metadata": {},
     "output_type": "execute_result"
    }
   ],
   "source": [
    "df.head()"
   ]
  },
  {
   "cell_type": "code",
   "execution_count": 9,
   "id": "0fc41999",
   "metadata": {},
   "outputs": [],
   "source": [
    "df['Price']=df['Sales'] / df['Quantity']"
   ]
  },
  {
   "cell_type": "code",
   "execution_count": 10,
   "id": "09581d02",
   "metadata": {},
   "outputs": [
    {
     "data": {
      "text/plain": [
       "Index(['Row ID', 'Order ID', 'Order Date', 'Ship Date', 'Ship Mode',\n",
       "       'Customer ID', 'Customer Name', 'Segment', 'Country', 'City', 'State',\n",
       "       'Postal Code', 'Region', 'Product ID', 'Category', 'Sub-Category',\n",
       "       'Product Name', 'Sales', 'Quantity', 'Discount', 'Profit', 'Price'],\n",
       "      dtype='object')"
      ]
     },
     "execution_count": 10,
     "metadata": {},
     "output_type": "execute_result"
    }
   ],
   "source": [
    "df.columns"
   ]
  },
  {
   "cell_type": "code",
   "execution_count": 11,
   "id": "11c7cdf1",
   "metadata": {},
   "outputs": [
    {
     "data": {
      "text/plain": [
       "Row ID           0\n",
       "Order ID         0\n",
       "Order Date       0\n",
       "Ship Date        0\n",
       "Ship Mode        0\n",
       "Customer ID      0\n",
       "Customer Name    0\n",
       "Segment          0\n",
       "Country          0\n",
       "City             0\n",
       "State            0\n",
       "Postal Code      0\n",
       "Region           0\n",
       "Product ID       0\n",
       "Category         0\n",
       "Sub-Category     0\n",
       "Product Name     0\n",
       "Sales            0\n",
       "Quantity         0\n",
       "Discount         0\n",
       "Profit           0\n",
       "Price            0\n",
       "dtype: int64"
      ]
     },
     "execution_count": 11,
     "metadata": {},
     "output_type": "execute_result"
    }
   ],
   "source": [
    "df.isnull().sum()"
   ]
  },
  {
   "cell_type": "code",
   "execution_count": 12,
   "id": "9ed5f06a",
   "metadata": {},
   "outputs": [],
   "source": [
    "df.drop_duplicates(inplace=True)"
   ]
  },
  {
   "cell_type": "code",
   "execution_count": 13,
   "id": "b7b4d177",
   "metadata": {},
   "outputs": [
    {
     "name": "stdout",
     "output_type": "stream",
     "text": [
      "<class 'pandas.core.frame.DataFrame'>\n",
      "Int64Index: 9994 entries, 0 to 9993\n",
      "Data columns (total 22 columns):\n",
      " #   Column         Non-Null Count  Dtype  \n",
      "---  ------         --------------  -----  \n",
      " 0   Row ID         9994 non-null   int64  \n",
      " 1   Order ID       9994 non-null   object \n",
      " 2   Order Date     9994 non-null   object \n",
      " 3   Ship Date      9994 non-null   object \n",
      " 4   Ship Mode      9994 non-null   object \n",
      " 5   Customer ID    9994 non-null   object \n",
      " 6   Customer Name  9994 non-null   object \n",
      " 7   Segment        9994 non-null   object \n",
      " 8   Country        9994 non-null   object \n",
      " 9   City           9994 non-null   object \n",
      " 10  State          9994 non-null   object \n",
      " 11  Postal Code    9994 non-null   int64  \n",
      " 12  Region         9994 non-null   object \n",
      " 13  Product ID     9994 non-null   object \n",
      " 14  Category       9994 non-null   object \n",
      " 15  Sub-Category   9994 non-null   object \n",
      " 16  Product Name   9994 non-null   object \n",
      " 17  Sales          9994 non-null   float64\n",
      " 18  Quantity       9994 non-null   int64  \n",
      " 19  Discount       9994 non-null   float64\n",
      " 20  Profit         9994 non-null   float64\n",
      " 21  Price          9994 non-null   float64\n",
      "dtypes: float64(4), int64(3), object(15)\n",
      "memory usage: 1.8+ MB\n"
     ]
    }
   ],
   "source": [
    "df.info()"
   ]
  },
  {
   "cell_type": "code",
   "execution_count": 14,
   "id": "e287593b",
   "metadata": {},
   "outputs": [
    {
     "data": {
      "text/html": [
       "<div>\n",
       "<style scoped>\n",
       "    .dataframe tbody tr th:only-of-type {\n",
       "        vertical-align: middle;\n",
       "    }\n",
       "\n",
       "    .dataframe tbody tr th {\n",
       "        vertical-align: top;\n",
       "    }\n",
       "\n",
       "    .dataframe thead th {\n",
       "        text-align: right;\n",
       "    }\n",
       "</style>\n",
       "<table border=\"1\" class=\"dataframe\">\n",
       "  <thead>\n",
       "    <tr style=\"text-align: right;\">\n",
       "      <th></th>\n",
       "      <th>Row ID</th>\n",
       "      <th>Postal Code</th>\n",
       "      <th>Sales</th>\n",
       "      <th>Quantity</th>\n",
       "      <th>Discount</th>\n",
       "      <th>Profit</th>\n",
       "      <th>Price</th>\n",
       "    </tr>\n",
       "  </thead>\n",
       "  <tbody>\n",
       "    <tr>\n",
       "      <th>count</th>\n",
       "      <td>9994.000000</td>\n",
       "      <td>9994.000000</td>\n",
       "      <td>9994.000000</td>\n",
       "      <td>9994.000000</td>\n",
       "      <td>9994.000000</td>\n",
       "      <td>9994.000000</td>\n",
       "      <td>9994.000000</td>\n",
       "    </tr>\n",
       "    <tr>\n",
       "      <th>mean</th>\n",
       "      <td>4997.500000</td>\n",
       "      <td>55190.379428</td>\n",
       "      <td>229.858001</td>\n",
       "      <td>3.789574</td>\n",
       "      <td>0.156203</td>\n",
       "      <td>28.656896</td>\n",
       "      <td>60.919569</td>\n",
       "    </tr>\n",
       "    <tr>\n",
       "      <th>std</th>\n",
       "      <td>2885.163629</td>\n",
       "      <td>32063.693350</td>\n",
       "      <td>623.245101</td>\n",
       "      <td>2.225110</td>\n",
       "      <td>0.206452</td>\n",
       "      <td>234.260108</td>\n",
       "      <td>142.927440</td>\n",
       "    </tr>\n",
       "    <tr>\n",
       "      <th>min</th>\n",
       "      <td>1.000000</td>\n",
       "      <td>1040.000000</td>\n",
       "      <td>0.444000</td>\n",
       "      <td>1.000000</td>\n",
       "      <td>0.000000</td>\n",
       "      <td>-6599.978000</td>\n",
       "      <td>0.336000</td>\n",
       "    </tr>\n",
       "    <tr>\n",
       "      <th>25%</th>\n",
       "      <td>2499.250000</td>\n",
       "      <td>23223.000000</td>\n",
       "      <td>17.280000</td>\n",
       "      <td>2.000000</td>\n",
       "      <td>0.000000</td>\n",
       "      <td>1.728750</td>\n",
       "      <td>5.470000</td>\n",
       "    </tr>\n",
       "    <tr>\n",
       "      <th>50%</th>\n",
       "      <td>4997.500000</td>\n",
       "      <td>56430.500000</td>\n",
       "      <td>54.490000</td>\n",
       "      <td>3.000000</td>\n",
       "      <td>0.200000</td>\n",
       "      <td>8.666500</td>\n",
       "      <td>16.270000</td>\n",
       "    </tr>\n",
       "    <tr>\n",
       "      <th>75%</th>\n",
       "      <td>7495.750000</td>\n",
       "      <td>90008.000000</td>\n",
       "      <td>209.940000</td>\n",
       "      <td>5.000000</td>\n",
       "      <td>0.200000</td>\n",
       "      <td>29.364000</td>\n",
       "      <td>63.940000</td>\n",
       "    </tr>\n",
       "    <tr>\n",
       "      <th>max</th>\n",
       "      <td>9994.000000</td>\n",
       "      <td>99301.000000</td>\n",
       "      <td>22638.480000</td>\n",
       "      <td>14.000000</td>\n",
       "      <td>0.800000</td>\n",
       "      <td>8399.976000</td>\n",
       "      <td>3773.080000</td>\n",
       "    </tr>\n",
       "  </tbody>\n",
       "</table>\n",
       "</div>"
      ],
      "text/plain": [
       "            Row ID   Postal Code         Sales     Quantity     Discount  \\\n",
       "count  9994.000000   9994.000000   9994.000000  9994.000000  9994.000000   \n",
       "mean   4997.500000  55190.379428    229.858001     3.789574     0.156203   \n",
       "std    2885.163629  32063.693350    623.245101     2.225110     0.206452   \n",
       "min       1.000000   1040.000000      0.444000     1.000000     0.000000   \n",
       "25%    2499.250000  23223.000000     17.280000     2.000000     0.000000   \n",
       "50%    4997.500000  56430.500000     54.490000     3.000000     0.200000   \n",
       "75%    7495.750000  90008.000000    209.940000     5.000000     0.200000   \n",
       "max    9994.000000  99301.000000  22638.480000    14.000000     0.800000   \n",
       "\n",
       "            Profit        Price  \n",
       "count  9994.000000  9994.000000  \n",
       "mean     28.656896    60.919569  \n",
       "std     234.260108   142.927440  \n",
       "min   -6599.978000     0.336000  \n",
       "25%       1.728750     5.470000  \n",
       "50%       8.666500    16.270000  \n",
       "75%      29.364000    63.940000  \n",
       "max    8399.976000  3773.080000  "
      ]
     },
     "execution_count": 14,
     "metadata": {},
     "output_type": "execute_result"
    }
   ],
   "source": [
    "df.describe()"
   ]
  },
  {
   "cell_type": "code",
   "execution_count": 15,
   "id": "357dcba9",
   "metadata": {},
   "outputs": [
    {
     "data": {
      "text/html": [
       "<div>\n",
       "<style scoped>\n",
       "    .dataframe tbody tr th:only-of-type {\n",
       "        vertical-align: middle;\n",
       "    }\n",
       "\n",
       "    .dataframe tbody tr th {\n",
       "        vertical-align: top;\n",
       "    }\n",
       "\n",
       "    .dataframe thead th {\n",
       "        text-align: right;\n",
       "    }\n",
       "</style>\n",
       "<table border=\"1\" class=\"dataframe\">\n",
       "  <thead>\n",
       "    <tr style=\"text-align: right;\">\n",
       "      <th></th>\n",
       "      <th>Row ID</th>\n",
       "      <th>Postal Code</th>\n",
       "      <th>Sales</th>\n",
       "      <th>Quantity</th>\n",
       "      <th>Discount</th>\n",
       "      <th>Profit</th>\n",
       "      <th>Price</th>\n",
       "    </tr>\n",
       "  </thead>\n",
       "  <tbody>\n",
       "    <tr>\n",
       "      <th>Row ID</th>\n",
       "      <td>1.000000</td>\n",
       "      <td>0.009671</td>\n",
       "      <td>-0.001359</td>\n",
       "      <td>-0.004016</td>\n",
       "      <td>0.013480</td>\n",
       "      <td>0.012497</td>\n",
       "      <td>-0.000630</td>\n",
       "    </tr>\n",
       "    <tr>\n",
       "      <th>Postal Code</th>\n",
       "      <td>0.009671</td>\n",
       "      <td>1.000000</td>\n",
       "      <td>-0.023854</td>\n",
       "      <td>0.012761</td>\n",
       "      <td>0.058443</td>\n",
       "      <td>-0.029961</td>\n",
       "      <td>-0.024652</td>\n",
       "    </tr>\n",
       "    <tr>\n",
       "      <th>Sales</th>\n",
       "      <td>-0.001359</td>\n",
       "      <td>-0.023854</td>\n",
       "      <td>1.000000</td>\n",
       "      <td>0.200795</td>\n",
       "      <td>-0.028190</td>\n",
       "      <td>0.479064</td>\n",
       "      <td>0.889376</td>\n",
       "    </tr>\n",
       "    <tr>\n",
       "      <th>Quantity</th>\n",
       "      <td>-0.004016</td>\n",
       "      <td>0.012761</td>\n",
       "      <td>0.200795</td>\n",
       "      <td>1.000000</td>\n",
       "      <td>0.008623</td>\n",
       "      <td>0.066253</td>\n",
       "      <td>-0.003148</td>\n",
       "    </tr>\n",
       "    <tr>\n",
       "      <th>Discount</th>\n",
       "      <td>0.013480</td>\n",
       "      <td>0.058443</td>\n",
       "      <td>-0.028190</td>\n",
       "      <td>0.008623</td>\n",
       "      <td>1.000000</td>\n",
       "      <td>-0.219487</td>\n",
       "      <td>-0.032803</td>\n",
       "    </tr>\n",
       "    <tr>\n",
       "      <th>Profit</th>\n",
       "      <td>0.012497</td>\n",
       "      <td>-0.029961</td>\n",
       "      <td>0.479064</td>\n",
       "      <td>0.066253</td>\n",
       "      <td>-0.219487</td>\n",
       "      <td>1.000000</td>\n",
       "      <td>0.468312</td>\n",
       "    </tr>\n",
       "    <tr>\n",
       "      <th>Price</th>\n",
       "      <td>-0.000630</td>\n",
       "      <td>-0.024652</td>\n",
       "      <td>0.889376</td>\n",
       "      <td>-0.003148</td>\n",
       "      <td>-0.032803</td>\n",
       "      <td>0.468312</td>\n",
       "      <td>1.000000</td>\n",
       "    </tr>\n",
       "  </tbody>\n",
       "</table>\n",
       "</div>"
      ],
      "text/plain": [
       "               Row ID  Postal Code     Sales  Quantity  Discount    Profit  \\\n",
       "Row ID       1.000000     0.009671 -0.001359 -0.004016  0.013480  0.012497   \n",
       "Postal Code  0.009671     1.000000 -0.023854  0.012761  0.058443 -0.029961   \n",
       "Sales       -0.001359    -0.023854  1.000000  0.200795 -0.028190  0.479064   \n",
       "Quantity    -0.004016     0.012761  0.200795  1.000000  0.008623  0.066253   \n",
       "Discount     0.013480     0.058443 -0.028190  0.008623  1.000000 -0.219487   \n",
       "Profit       0.012497    -0.029961  0.479064  0.066253 -0.219487  1.000000   \n",
       "Price       -0.000630    -0.024652  0.889376 -0.003148 -0.032803  0.468312   \n",
       "\n",
       "                Price  \n",
       "Row ID      -0.000630  \n",
       "Postal Code -0.024652  \n",
       "Sales        0.889376  \n",
       "Quantity    -0.003148  \n",
       "Discount    -0.032803  \n",
       "Profit       0.468312  \n",
       "Price        1.000000  "
      ]
     },
     "execution_count": 15,
     "metadata": {},
     "output_type": "execute_result"
    }
   ],
   "source": [
    "df.corr()"
   ]
  },
  {
   "cell_type": "code",
   "execution_count": 16,
   "id": "c7656617",
   "metadata": {},
   "outputs": [
    {
     "data": {
      "image/png": "[encoded data removed]",
      "text/plain": [
       "<Figure size 432x288 with 2 Axes>"
      ]
     },
     "metadata": {
      "needs_background": "light"
     },
     "output_type": "display_data"
    }
   ],
   "source": [
    "corr = df.corr()\n",
    "sns.heatmap(corr, cmap='coolwarm',annot=True)\n",
    "plt.title('Correlation Matrix')\n",
    "plt.show()"
   ]
  },
  {
   "cell_type": "code",
   "execution_count": 17,
   "id": "14844b32",
   "metadata": {},
   "outputs": [
    {
     "data": {
      "image/png": "[encoded data removed]",
      "text/plain": [
       "<Figure size 432x288 with 1 Axes>"
      ]
     },
     "metadata": {
      "needs_background": "light"
     },
     "output_type": "display_data"
    }
   ],
   "source": [
    "plt.scatter(df['Price'], df['Sales'])\n",
    "plt.xlabel('Price')\n",
    "plt.ylabel('Sales')\n",
    "plt.show()"
   ]
  },
  {
   "cell_type": "code",
   "execution_count": 18,
   "id": "02524519",
   "metadata": {},
   "outputs": [
    {
     "data": {
      "image/png": "[encoded data removed]",
      "text/plain": [
       "<Figure size 432x288 with 1 Axes>"
      ]
     },
     "metadata": {
      "needs_background": "light"
     },
     "output_type": "display_data"
    }
   ],
   "source": [
    "sns.boxplot(x='Segment', y='Profit', data=df)\n",
    "plt.title('Segment vs Profit')\n",
    "plt.show()"
   ]
  },
  {
   "cell_type": "code",
   "execution_count": 19,
   "id": "5e42dea5",
   "metadata": {},
   "outputs": [
    {
     "data": {
      "image/png": "[encoded data removed]",
      "text/plain": [
       "<Figure size 432x288 with 1 Axes>"
      ]
     },
     "metadata": {
      "needs_background": "light"
     },
     "output_type": "display_data"
    }
   ],
   "source": [
    "plt.bar(df['Ship Mode'],df['Profit'],data=df)\n",
    "plt.title('Ship Mode vs Profit')\n",
    "plt.xlabel('Ship Mode')\n",
    "plt.ylabel('Profit')\n",
    "\n",
    "plt.show()"
   ]
  },
  {
   "cell_type": "code",
   "execution_count": 20,
   "id": "dd14c036",
   "metadata": {},
   "outputs": [
    {
     "data": {
      "image/png": "[encoded data removed]",
      "text/plain": [
       "<Figure size 864x864 with 1 Axes>"
      ]
     },
     "metadata": {
      "needs_background": "light"
     },
     "output_type": "display_data"
    }
   ],
   "source": [
    "plt.figure(figsize=(12,12))\n",
    "plt.barh(df['State'],df['Profit'],data=df,linestyle = 'dotted')\n",
    "plt.title('State vs Profit')\n",
    "plt.xlabel('State')\n",
    "plt.ylabel('Profit')\n",
    "\n",
    "plt.show()"
   ]
  },
  {
   "cell_type": "code",
   "execution_count": 21,
   "id": "403837f3",
   "metadata": {},
   "outputs": [
    {
     "data": {
      "image/png": "[encoded data removed]",
      "text/plain": [
       "<Figure size 432x288 with 1 Axes>"
      ]
     },
     "metadata": {
      "needs_background": "light"
     },
     "output_type": "display_data"
    }
   ],
   "source": [
    "plt.hist(df['Region'],bins=10, color='blue')\n",
    "plt.title('Histogram of Region')\n",
    "plt.xlabel('Region')\n",
    "plt.ylabel('Frequency')\n",
    "plt.show()"
   ]
  },
  {
   "cell_type": "code",
   "execution_count": 22,
   "id": "2e4d16b9",
   "metadata": {},
   "outputs": [
    {
     "data": {
      "image/png": "[encoded data removed]",
      "text/plain": [
       "<Figure size 432x288 with 1 Axes>"
      ]
     },
     "metadata": {
      "needs_background": "light"
     },
     "output_type": "display_data"
    }
   ],
   "source": [
    "plt.bar(df['Region'],df['Profit'],data=df)\n",
    "plt.title('Region vs Profit')\n",
    "plt.xlabel('Region')\n",
    "plt.ylabel('Profit')\n",
    "\n",
    "plt.show()"
   ]
  },
  {
   "cell_type": "code",
   "execution_count": 23,
   "id": "2f27b628",
   "metadata": {},
   "outputs": [
    {
     "data": {
      "image/png": "[encoded data removed]",
      "text/plain": [
       "<Figure size 432x288 with 1 Axes>"
      ]
     },
     "metadata": {
      "needs_background": "light"
     },
     "output_type": "display_data"
    }
   ],
   "source": [
    "plt.hist(df['Category'],bins=10, color='black')\n",
    "plt.title('Histogram of Category')\n",
    "plt.xlabel('Category')\n",
    "plt.ylabel('Frequency')\n",
    "plt.show()"
   ]
  },
  {
   "cell_type": "code",
   "execution_count": 24,
   "id": "6c19420a",
   "metadata": {},
   "outputs": [
    {
     "data": {
      "image/png": "[encoded data removed]",
      "text/plain": [
       "<Figure size 432x288 with 1 Axes>"
      ]
     },
     "metadata": {
      "needs_background": "light"
     },
     "output_type": "display_data"
    }
   ],
   "source": [
    "plt.bar(df['Category'],df['Profit'],data=df)\n",
    "plt.title('Category vs Profit')\n",
    "plt.xlabel('Category')\n",
    "plt.ylabel('Profit')\n",
    "\n",
    "plt.show()"
   ]
  },
  {
   "cell_type": "code",
   "execution_count": 25,
   "id": "98d5f0a2",
   "metadata": {},
   "outputs": [
    {
     "data": {
      "image/png": "[encoded data removed]",
      "text/plain": [
       "<Figure size 1080x1080 with 1 Axes>"
      ]
     },
     "metadata": {
      "needs_background": "light"
     },
     "output_type": "display_data"
    }
   ],
   "source": [
    "plt.figure(figsize=(15,15))\n",
    "plt.hist(df['Sub-Category'],bins=10, color='hotpink')\n",
    "plt.title('Histogram of Sub-Category')\n",
    "plt.xlabel('Sub-Category')\n",
    "plt.ylabel('Frequency')\n",
    "plt.show()"
   ]
  },
  {
   "cell_type": "code",
   "execution_count": 26,
   "id": "b8a12363",
   "metadata": {},
   "outputs": [
    {
     "data": {
      "image/png": "[encoded data removed]",
      "text/plain": [
       "<Figure size 576x576 with 1 Axes>"
      ]
     },
     "metadata": {
      "needs_background": "light"
     },
     "output_type": "display_data"
    }
   ],
   "source": [
    "plt.figure(figsize=(8,8))\n",
    "plt.barh(df['Sub-Category'],df['Profit'],data=df)\n",
    "plt.title('Sub-Category vs Profit')\n",
    "plt.xlabel('Sub-Category')\n",
    "plt.ylabel('Profit')\n",
    "\n",
    "plt.show()"
   ]
  },
  {
   "cell_type": "markdown",
   "id": "688fdb15",
   "metadata": {},
   "source": [
    "# new"
   ]
  },
  {
   "cell_type": "code",
   "execution_count": 27,
   "id": "bb657da6",
   "metadata": {},
   "outputs": [
    {
     "data": {
      "text/html": [
       "<div>\n",
       "<style scoped>\n",
       "    .dataframe tbody tr th:only-of-type {\n",
       "        vertical-align: middle;\n",
       "    }\n",
       "\n",
       "    .dataframe tbody tr th {\n",
       "        vertical-align: top;\n",
       "    }\n",
       "\n",
       "    .dataframe thead th {\n",
       "        text-align: right;\n",
       "    }\n",
       "</style>\n",
       "<table border=\"1\" class=\"dataframe\">\n",
       "  <thead>\n",
       "    <tr style=\"text-align: right;\">\n",
       "      <th></th>\n",
       "      <th>Row ID</th>\n",
       "      <th>Order ID</th>\n",
       "      <th>Order Date</th>\n",
       "      <th>Ship Date</th>\n",
       "      <th>Ship Mode</th>\n",
       "      <th>Customer ID</th>\n",
       "      <th>Customer Name</th>\n",
       "      <th>Segment</th>\n",
       "      <th>Country</th>\n",
       "      <th>City</th>\n",
       "      <th>...</th>\n",
       "      <th>Region</th>\n",
       "      <th>Product ID</th>\n",
       "      <th>Category</th>\n",
       "      <th>Sub-Category</th>\n",
       "      <th>Product Name</th>\n",
       "      <th>Sales</th>\n",
       "      <th>Quantity</th>\n",
       "      <th>Discount</th>\n",
       "      <th>Profit</th>\n",
       "      <th>Price</th>\n",
       "    </tr>\n",
       "  </thead>\n",
       "  <tbody>\n",
       "    <tr>\n",
       "      <th>0</th>\n",
       "      <td>1</td>\n",
       "      <td>CA-2016-152156</td>\n",
       "      <td>11/8/2016</td>\n",
       "      <td>11/11/2016</td>\n",
       "      <td>Second Class</td>\n",
       "      <td>CG-12520</td>\n",
       "      <td>Claire Gute</td>\n",
       "      <td>Consumer</td>\n",
       "      <td>United States</td>\n",
       "      <td>Henderson</td>\n",
       "      <td>...</td>\n",
       "      <td>South</td>\n",
       "      <td>FUR-BO-10001798</td>\n",
       "      <td>Furniture</td>\n",
       "      <td>Bookcases</td>\n",
       "      <td>Bush Somerset Collection Bookcase</td>\n",
       "      <td>261.9600</td>\n",
       "      <td>2</td>\n",
       "      <td>0.00</td>\n",
       "      <td>41.9136</td>\n",
       "      <td>130.9800</td>\n",
       "    </tr>\n",
       "    <tr>\n",
       "      <th>1</th>\n",
       "      <td>2</td>\n",
       "      <td>CA-2016-152156</td>\n",
       "      <td>11/8/2016</td>\n",
       "      <td>11/11/2016</td>\n",
       "      <td>Second Class</td>\n",
       "      <td>CG-12520</td>\n",
       "      <td>Claire Gute</td>\n",
       "      <td>Consumer</td>\n",
       "      <td>United States</td>\n",
       "      <td>Henderson</td>\n",
       "      <td>...</td>\n",
       "      <td>South</td>\n",
       "      <td>FUR-CH-10000454</td>\n",
       "      <td>Furniture</td>\n",
       "      <td>Chairs</td>\n",
       "      <td>Hon Deluxe Fabric Upholstered Stacking Chairs,...</td>\n",
       "      <td>731.9400</td>\n",
       "      <td>3</td>\n",
       "      <td>0.00</td>\n",
       "      <td>219.5820</td>\n",
       "      <td>243.9800</td>\n",
       "    </tr>\n",
       "    <tr>\n",
       "      <th>2</th>\n",
       "      <td>3</td>\n",
       "      <td>CA-2016-138688</td>\n",
       "      <td>6/12/2016</td>\n",
       "      <td>6/16/2016</td>\n",
       "      <td>Second Class</td>\n",
       "      <td>DV-13045</td>\n",
       "      <td>Darrin Van Huff</td>\n",
       "      <td>Corporate</td>\n",
       "      <td>United States</td>\n",
       "      <td>Los Angeles</td>\n",
       "      <td>...</td>\n",
       "      <td>West</td>\n",
       "      <td>OFF-LA-10000240</td>\n",
       "      <td>Office Supplies</td>\n",
       "      <td>Labels</td>\n",
       "      <td>Self-Adhesive Address Labels for Typewriters b...</td>\n",
       "      <td>14.6200</td>\n",
       "      <td>2</td>\n",
       "      <td>0.00</td>\n",
       "      <td>6.8714</td>\n",
       "      <td>7.3100</td>\n",
       "    </tr>\n",
       "    <tr>\n",
       "      <th>3</th>\n",
       "      <td>4</td>\n",
       "      <td>US-2015-108966</td>\n",
       "      <td>10/11/2015</td>\n",
       "      <td>10/18/2015</td>\n",
       "      <td>Standard Class</td>\n",
       "      <td>SO-20335</td>\n",
       "      <td>Sean O'Donnell</td>\n",
       "      <td>Consumer</td>\n",
       "      <td>United States</td>\n",
       "      <td>Fort Lauderdale</td>\n",
       "      <td>...</td>\n",
       "      <td>South</td>\n",
       "      <td>FUR-TA-10000577</td>\n",
       "      <td>Furniture</td>\n",
       "      <td>Tables</td>\n",
       "      <td>Bretford CR4500 Series Slim Rectangular Table</td>\n",
       "      <td>957.5775</td>\n",
       "      <td>5</td>\n",
       "      <td>0.45</td>\n",
       "      <td>-383.0310</td>\n",
       "      <td>191.5155</td>\n",
       "    </tr>\n",
       "    <tr>\n",
       "      <th>4</th>\n",
       "      <td>5</td>\n",
       "      <td>US-2015-108966</td>\n",
       "      <td>10/11/2015</td>\n",
       "      <td>10/18/2015</td>\n",
       "      <td>Standard Class</td>\n",
       "      <td>SO-20335</td>\n",
       "      <td>Sean O'Donnell</td>\n",
       "      <td>Consumer</td>\n",
       "      <td>United States</td>\n",
       "      <td>Fort Lauderdale</td>\n",
       "      <td>...</td>\n",
       "      <td>South</td>\n",
       "      <td>OFF-ST-10000760</td>\n",
       "      <td>Office Supplies</td>\n",
       "      <td>Storage</td>\n",
       "      <td>Eldon Fold 'N Roll Cart System</td>\n",
       "      <td>22.3680</td>\n",
       "      <td>2</td>\n",
       "      <td>0.20</td>\n",
       "      <td>2.5164</td>\n",
       "      <td>11.1840</td>\n",
       "    </tr>\n",
       "  </tbody>\n",
       "</table>\n",
       "<p>5 rows × 22 columns</p>\n",
       "</div>"
      ],
      "text/plain": [
       "   Row ID        Order ID  Order Date   Ship Date       Ship Mode Customer ID  \\\n",
       "0       1  CA-2016-152156   11/8/2016  11/11/2016    Second Class    CG-12520   \n",
       "1       2  CA-2016-152156   11/8/2016  11/11/2016    Second Class    CG-12520   \n",
       "2       3  CA-2016-138688   6/12/2016   6/16/2016    Second Class    DV-13045   \n",
       "3       4  US-2015-108966  10/11/2015  10/18/2015  Standard Class    SO-20335   \n",
       "4       5  US-2015-108966  10/11/2015  10/18/2015  Standard Class    SO-20335   \n",
       "\n",
       "     Customer Name    Segment        Country             City  ... Region  \\\n",
       "0      Claire Gute   Consumer  United States        Henderson  ...  South   \n",
       "1      Claire Gute   Consumer  United States        Henderson  ...  South   \n",
       "2  Darrin Van Huff  Corporate  United States      Los Angeles  ...   West   \n",
       "3   Sean O'Donnell   Consumer  United States  Fort Lauderdale  ...  South   \n",
       "4   Sean O'Donnell   Consumer  United States  Fort Lauderdale  ...  South   \n",
       "\n",
       "        Product ID         Category Sub-Category  \\\n",
       "0  FUR-BO-10001798        Furniture    Bookcases   \n",
       "1  FUR-CH-10000454        Furniture       Chairs   \n",
       "2  OFF-LA-10000240  Office Supplies       Labels   \n",
       "3  FUR-TA-10000577        Furniture       Tables   \n",
       "4  OFF-ST-10000760  Office Supplies      Storage   \n",
       "\n",
       "                                        Product Name     Sales Quantity  \\\n",
       "0                  Bush Somerset Collection Bookcase  261.9600        2   \n",
       "1  Hon Deluxe Fabric Upholstered Stacking Chairs,...  731.9400        3   \n",
       "2  Self-Adhesive Address Labels for Typewriters b...   14.6200        2   \n",
       "3      Bretford CR4500 Series Slim Rectangular Table  957.5775        5   \n",
       "4                     Eldon Fold 'N Roll Cart System   22.3680        2   \n",
       "\n",
       "   Discount    Profit     Price  \n",
       "0      0.00   41.9136  130.9800  \n",
       "1      0.00  219.5820  243.9800  \n",
       "2      0.00    6.8714    7.3100  \n",
       "3      0.45 -383.0310  191.5155  \n",
       "4      0.20    2.5164   11.1840  \n",
       "\n",
       "[5 rows x 22 columns]"
      ]
     },
     "execution_count": 27,
     "metadata": {},
     "output_type": "execute_result"
    }
   ],
   "source": [
    "df.head()"
   ]
  },
  {
   "cell_type": "code",
   "execution_count": 28,
   "id": "8e235034",
   "metadata": {},
   "outputs": [
    {
     "data": {
      "image/png": "[encoded data removed]",
      "text/plain": [
       "<Figure size 432x288 with 1 Axes>"
      ]
     },
     "metadata": {
      "needs_background": "light"
     },
     "output_type": "display_data"
    }
   ],
   "source": [
    "import matplotlib.pyplot as plt\n",
    "import seaborn as sns\n",
    "\n",
    "# Plot a histogram of sales\n",
    "plt.hist(df['Sales'], bins=20)\n",
    "plt.show()\n",
    "\n",
    "\n"
   ]
  },
  {
   "cell_type": "code",
   "execution_count": 29,
   "id": "9d8cf485",
   "metadata": {},
   "outputs": [
    {
     "data": {
      "image/png": "[encoded data removed]",
      "text/plain": [
       "<Figure size 432x288 with 1 Axes>"
      ]
     },
     "metadata": {
      "needs_background": "light"
     },
     "output_type": "display_data"
    }
   ],
   "source": [
    "# Plot a scatter plot of sales vs. profit\n",
    "sns.scatterplot(x='Sales', y='Profit', data=df)\n",
    "plt.show()\n",
    "\n"
   ]
  },
  {
   "cell_type": "code",
   "execution_count": 30,
   "id": "ab2094a8",
   "metadata": {},
   "outputs": [
    {
     "data": {
      "image/png": "[encoded data removed]",
      "text/plain": [
       "<Figure size 432x288 with 1 Axes>"
      ]
     },
     "metadata": {
      "needs_background": "light"
     },
     "output_type": "display_data"
    }
   ],
   "source": [
    "# Plot a bar chart of sales by category\n",
    "sns.barplot(x='Category', y='Sales', data=df)\n",
    "plt.show()"
   ]
  },
  {
   "cell_type": "code",
   "execution_count": 31,
   "id": "0b34b429",
   "metadata": {},
   "outputs": [
    {
     "name": "stdout",
     "output_type": "stream",
     "text": [
      "Total sales: 2297200.8603000003\n"
     ]
    }
   ],
   "source": [
    "# What is the total sales of the store?\n",
    "print('Total sales:', df['Sales'].sum())\n",
    "\n"
   ]
  },
  {
   "cell_type": "markdown",
   "id": "89f179b2",
   "metadata": {},
   "source": [
    "# identifying most profitable "
   ]
  },
  {
   "cell_type": "code",
   "execution_count": 32,
   "id": "ea3e4e0c",
   "metadata": {},
   "outputs": [
    {
     "name": "stdout",
     "output_type": "stream",
     "text": [
      "Category\n",
      "Furniture           8.699327\n",
      "Office Supplies    20.327050\n",
      "Technology         78.752002\n",
      "Name: Profit, dtype: float64\n"
     ]
    }
   ],
   "source": [
    "# What is the average profit by category?\n",
    "print(df.groupby('Category')['Profit'].mean())\n",
    "\n"
   ]
  },
  {
   "cell_type": "code",
   "execution_count": 33,
   "id": "f775411c",
   "metadata": {},
   "outputs": [
    {
     "name": "stdout",
     "output_type": "stream",
     "text": [
      "Ship Mode\n",
      "First Class        48969.8399\n",
      "Same Day           15891.7589\n",
      "Second Class       57446.6354\n",
      "Standard Class    164088.7875\n",
      "Name: Profit, dtype: float64\n"
     ]
    }
   ],
   "source": [
    "#standard class shipping is more profitable\n",
    "print(df.groupby('Ship Mode')['Profit'].sum())"
   ]
  },
  {
   "cell_type": "code",
   "execution_count": 34,
   "id": "fda1d304",
   "metadata": {},
   "outputs": [
    {
     "name": "stdout",
     "output_type": "stream",
     "text": [
      "Segment\n",
      "Consumer       134119.2092\n",
      "Corporate       91979.1340\n",
      "Home Office     60298.6785\n",
      "Name: Profit, dtype: float64\n"
     ]
    }
   ],
   "source": [
    "#consumer segment yields more profit\n",
    "print(df.groupby('Segment')['Profit'].sum())"
   ]
  },
  {
   "cell_type": "code",
   "execution_count": 35,
   "id": "bbbbf699",
   "metadata": {},
   "outputs": [
    {
     "name": "stdout",
     "output_type": "stream",
     "text": [
      "Region\n",
      "Central     39706.3625\n",
      "East        91522.7800\n",
      "South       46749.4303\n",
      "West       108418.4489\n",
      "Name: Profit, dtype: float64\n"
     ]
    }
   ],
   "source": [
    "#west gives most profits\n",
    "print(df.groupby('Region')['Profit'].sum())"
   ]
  },
  {
   "cell_type": "code",
   "execution_count": 36,
   "id": "0721cbbc",
   "metadata": {},
   "outputs": [
    {
     "name": "stdout",
     "output_type": "stream",
     "text": [
      "Sub-Category\n",
      "Accessories    41936.6357\n",
      "Appliances     18138.0054\n",
      "Art             6527.7870\n",
      "Binders        30221.7633\n",
      "Bookcases      -3472.5560\n",
      "Chairs         26590.1663\n",
      "Copiers        55617.8249\n",
      "Envelopes       6964.1767\n",
      "Fasteners        949.5182\n",
      "Furnishings    13059.1436\n",
      "Labels          5546.2540\n",
      "Machines        3384.7569\n",
      "Paper          34053.5693\n",
      "Phones         44515.7306\n",
      "Storage        21278.8264\n",
      "Supplies       -1189.0995\n",
      "Tables        -17725.4811\n",
      "Name: Profit, dtype: float64\n"
     ]
    }
   ],
   "source": [
    "#sub category copiers gives most profit\n",
    "print(df.groupby('Sub-Category')['Profit'].sum())"
   ]
  },
  {
   "cell_type": "code",
   "execution_count": 37,
   "id": "620bbc37",
   "metadata": {},
   "outputs": [
    {
     "data": {
      "text/plain": [
       "Index(['Row ID', 'Order ID', 'Order Date', 'Ship Date', 'Ship Mode',\n",
       "       'Customer ID', 'Customer Name', 'Segment', 'Country', 'City', 'State',\n",
       "       'Postal Code', 'Region', 'Product ID', 'Category', 'Sub-Category',\n",
       "       'Product Name', 'Sales', 'Quantity', 'Discount', 'Profit', 'Price'],\n",
       "      dtype='object')"
      ]
     },
     "execution_count": 37,
     "metadata": {},
     "output_type": "execute_result"
    }
   ],
   "source": [
    "df.columns"
   ]
  },
  {
   "cell_type": "markdown",
   "id": "5471981b",
   "metadata": {},
   "source": [
    "# sales trend over time"
   ]
  },
  {
   "cell_type": "code",
   "execution_count": 38,
   "id": "c70b1b4c",
   "metadata": {},
   "outputs": [
    {
     "data": {
      "image/png": "[encoded data removed]",
      "text/plain": [
       "<Figure size 432x288 with 1 Axes>"
      ]
     },
     "metadata": {
      "needs_background": "light"
     },
     "output_type": "display_data"
    }
   ],
   "source": [
    "df['Order Date'] = pd.to_datetime(df['Order Date'])\n",
    "\n",
    "# Group the data by month and calculate the total sales for each month\n",
    "sales_by_month = df.groupby(pd.Grouper(key='Order Date', freq='Y'))['Sales'].sum()\n",
    "\n",
    "# Plot the sales trend over time\n",
    "plt.plot(sales_by_month)\n",
    "plt.xlabel('Month')\n",
    "plt.ylabel('Total Sales')\n",
    "plt.title('Sales Trend over Time')\n",
    "plt.show()"
   ]
  },
  {
   "cell_type": "markdown",
   "id": "05c39e08",
   "metadata": {},
   "source": [
    "# Customer demography"
   ]
  },
  {
   "cell_type": "code",
   "execution_count": 39,
   "id": "6cad9534",
   "metadata": {},
   "outputs": [
    {
     "data": {
      "text/plain": [
       "State\n",
       "Alabama                  319.846557\n",
       "Arizona                  157.508933\n",
       "Arkansas                 194.635500\n",
       "California               228.729451\n",
       "Colorado                 176.418231\n",
       "Connecticut              163.223866\n",
       "Delaware                 285.948635\n",
       "District of Columbia     286.502000\n",
       "Florida                  233.612815\n",
       "Georgia                  266.825217\n",
       "Idaho                    208.689810\n",
       "Illinois                 162.939230\n",
       "Indiana                  359.431946\n",
       "Iowa                     152.658667\n",
       "Kansas                   121.429583\n",
       "Kentucky                 263.250000\n",
       "Louisiana                219.453095\n",
       "Maine                    158.816250\n",
       "Maryland                 225.766886\n",
       "Massachusetts            212.106919\n",
       "Michigan                 299.096525\n",
       "Minnesota                335.541011\n",
       "Mississippi              203.232830\n",
       "Missouri                 336.441667\n",
       "Montana                  372.623467\n",
       "Nebraska                 196.445526\n",
       "Nevada                   428.951333\n",
       "New Hampshire            270.093481\n",
       "New Jersey               275.110092\n",
       "New Mexico               129.284378\n",
       "New York                 275.599531\n",
       "North Carolina           223.305880\n",
       "North Dakota             131.415714\n",
       "Ohio                     166.861697\n",
       "Oklahoma                 298.233182\n",
       "Oregon                   140.573790\n",
       "Pennsylvania             198.487077\n",
       "Rhode Island             404.070643\n",
       "South Carolina           201.945476\n",
       "South Dakota             109.630000\n",
       "Tennessee                167.551219\n",
       "Texas                    172.779742\n",
       "Utah                     211.699170\n",
       "Vermont                  811.760909\n",
       "Virginia                 315.342500\n",
       "Washington               273.994605\n",
       "West Virginia            302.456000\n",
       "Wisconsin                291.951000\n",
       "Wyoming                 1603.136000\n",
       "Name: Sales, dtype: float64"
      ]
     },
     "execution_count": 39,
     "metadata": {},
     "output_type": "execute_result"
    }
   ],
   "source": [
    "#wyomming has most sales\n",
    "avg_sales_by_state = df.groupby('State')['Sales'].mean()\n",
    "avg_sales_by_state"
   ]
  },
  {
   "cell_type": "code",
   "execution_count": 40,
   "id": "96870a1a",
   "metadata": {},
   "outputs": [
    {
     "data": {
      "text/plain": [
       "<AxesSubplot:xlabel='State'>"
      ]
     },
     "execution_count": 40,
     "metadata": {},
     "output_type": "execute_result"
    },
    {
     "data": {
      "image/png": "[encoded data removed]",
      "text/plain": [
       "<Figure size 432x288 with 1 Axes>"
      ]
     },
     "metadata": {
      "needs_background": "light"
     },
     "output_type": "display_data"
    }
   ],
   "source": [
    "# Plot a bar chart of sales by state\n",
    "avg_sales_by_state.plot(kind='bar')\n",
    "\n",
    "#dropdown"
   ]
  },
  {
   "cell_type": "code",
   "execution_count": 41,
   "id": "6eb7f826",
   "metadata": {},
   "outputs": [
    {
     "data": {
      "text/plain": [
       "Region\n",
       "Central    215.772661\n",
       "East       238.336110\n",
       "South      241.803645\n",
       "West       226.493233\n",
       "Name: Sales, dtype: float64"
      ]
     },
     "execution_count": 41,
     "metadata": {},
     "output_type": "execute_result"
    }
   ],
   "source": [
    "#south has most sales\n",
    "avg_sales_by_state = df.groupby('Region')['Sales'].mean()\n",
    "avg_sales_by_state"
   ]
  },
  {
   "cell_type": "code",
   "execution_count": 42,
   "id": "b0556e4d",
   "metadata": {},
   "outputs": [
    {
     "data": {
      "text/plain": [
       "Segment\n",
       "Consumer       223.733644\n",
       "Corporate      233.823300\n",
       "Home Office    240.972041\n",
       "Name: Sales, dtype: float64"
      ]
     },
     "execution_count": 42,
     "metadata": {},
     "output_type": "execute_result"
    }
   ],
   "source": [
    "#home office has most sales\n",
    "avg_sales_by_state = df.groupby('Segment')['Sales'].mean()\n",
    "avg_sales_by_state"
   ]
  },
  {
   "cell_type": "code",
   "execution_count": 43,
   "id": "f9ee7463",
   "metadata": {},
   "outputs": [
    {
     "data": {
      "text/plain": [
       "Index(['Row ID', 'Order ID', 'Order Date', 'Ship Date', 'Ship Mode',\n",
       "       'Customer ID', 'Customer Name', 'Segment', 'Country', 'City', 'State',\n",
       "       'Postal Code', 'Region', 'Product ID', 'Category', 'Sub-Category',\n",
       "       'Product Name', 'Sales', 'Quantity', 'Discount', 'Profit', 'Price'],\n",
       "      dtype='object')"
      ]
     },
     "execution_count": 43,
     "metadata": {},
     "output_type": "execute_result"
    }
   ],
   "source": [
    "df.columns"
   ]
  },
  {
   "cell_type": "code",
   "execution_count": 44,
   "id": "c48789ba",
   "metadata": {},
   "outputs": [
    {
     "data": {
      "text/plain": [
       "Ship Mode\n",
       "First Class       228.497024\n",
       "Same Day          236.396179\n",
       "Second Class      236.089239\n",
       "Standard Class    227.583067\n",
       "Name: Sales, dtype: float64"
      ]
     },
     "execution_count": 44,
     "metadata": {},
     "output_type": "execute_result"
    }
   ],
   "source": [
    "#same day has most sales\n",
    "avg_sales_by_state = df.groupby('Ship Mode')['Sales'].mean()\n",
    "avg_sales_by_state"
   ]
  },
  {
   "cell_type": "markdown",
   "id": "2fd18d42",
   "metadata": {},
   "source": [
    "# correlation"
   ]
  },
  {
   "cell_type": "code",
   "execution_count": 45,
   "id": "b1f34e58",
   "metadata": {},
   "outputs": [
    {
     "name": "stdout",
     "output_type": "stream",
     "text": [
      "           Sales    Profit\n",
      "Sales   1.000000  0.479064\n",
      "Profit  0.479064  1.000000\n"
     ]
    }
   ],
   "source": [
    "# What is the correlation between sales and profit?\n",
    "print(df[['Sales', 'Profit']].corr())"
   ]
  },
  {
   "cell_type": "code",
   "execution_count": 46,
   "id": "127622f3",
   "metadata": {},
   "outputs": [
    {
     "name": "stdout",
     "output_type": "stream",
     "text": [
      "          Discount    Sales\n",
      "Discount   1.00000 -0.02819\n",
      "Sales     -0.02819  1.00000\n"
     ]
    }
   ],
   "source": [
    "print(df[['Discount', 'Sales']].corr())"
   ]
  },
  {
   "cell_type": "markdown",
   "id": "bd1f21db",
   "metadata": {},
   "source": [
    "# customer purchase behaviour"
   ]
  },
  {
   "cell_type": "code",
   "execution_count": 47,
   "id": "d8112cae",
   "metadata": {},
   "outputs": [
    {
     "name": "stdout",
     "output_type": "stream",
     "text": [
      "Total Revenue: 2297200.8603000003\n",
      "Number of Orders: 5009\n",
      "Average Order Value: 458.61466566180883\n"
     ]
    }
   ],
   "source": [
    "# Calculate the total revenue\n",
    "total_revenue = df['Sales'].sum()\n",
    "\n",
    "# Count the number of unique order IDs\n",
    "num_orders = df['Order ID'].nunique()\n",
    "\n",
    "# Calculate the average order value\n",
    "avg_order_value = total_revenue / num_orders\n",
    "\n",
    "print('Total Revenue:', total_revenue)\n",
    "print('Number of Orders:', num_orders)\n",
    "print('Average Order Value:', avg_order_value)\n",
    "\n",
    "\n"
   ]
  },
  {
   "cell_type": "code",
   "execution_count": 48,
   "id": "e164d41a",
   "metadata": {},
   "outputs": [
    {
     "name": "stdout",
     "output_type": "stream",
     "text": [
      "Customer ID\n",
      "AA-10315     5\n",
      "AA-10375     9\n",
      "AA-10480     4\n",
      "AA-10645     6\n",
      "AB-10015     3\n",
      "            ..\n",
      "XP-21865    11\n",
      "YC-21895     5\n",
      "YS-21880     8\n",
      "ZC-21910    13\n",
      "ZD-21925     5\n",
      "Name: Order ID, Length: 793, dtype: int64\n"
     ]
    }
   ],
   "source": [
    "# Count the number of orders per customer\n",
    "freq_purchases = df.groupby('Customer ID')['Order ID'].nunique()\n",
    "\n",
    "# Print the result\n",
    "print(freq_purchases)\n"
   ]
  },
  {
   "cell_type": "code",
   "execution_count": 49,
   "id": "f71ca794",
   "metadata": {},
   "outputs": [
    {
     "data": {
      "text/plain": [
       "17"
      ]
     },
     "execution_count": 49,
     "metadata": {},
     "output_type": "execute_result"
    }
   ],
   "source": [
    "max(freq_purchases)"
   ]
  },
  {
   "cell_type": "code",
   "execution_count": null,
   "id": "6956067e",
   "metadata": {},
   "outputs": [],
   "source": []
  },
  {
   "cell_type": "code",
   "execution_count": 50,
   "id": "0a2c31eb",
   "metadata": {},
   "outputs": [],
   "source": [
    "import pandas as pd\n",
    "from mlxtend.frequent_patterns import apriori\n",
    "from mlxtend.frequent_patterns import association_rules\n"
   ]
  },
  {
   "cell_type": "code",
   "execution_count": 51,
   "id": "122ab069",
   "metadata": {},
   "outputs": [
    {
     "name": "stdout",
     "output_type": "stream",
     "text": [
      "Requirement already satisfied: mlxtend in ./opt/anaconda3/lib/python3.9/site-packages (0.21.0)\n",
      "Requirement already satisfied: setuptools in ./opt/anaconda3/lib/python3.9/site-packages (from mlxtend) (58.0.4)\n",
      "Requirement already satisfied: matplotlib>=3.0.0 in ./opt/anaconda3/lib/python3.9/site-packages (from mlxtend) (3.4.3)\n",
      "Requirement already satisfied: scipy>=1.2.1 in ./opt/anaconda3/lib/python3.9/site-packages (from mlxtend) (1.7.1)\n",
      "Requirement already satisfied: pandas>=0.24.2 in ./opt/anaconda3/lib/python3.9/site-packages (from mlxtend) (1.3.4)\n",
      "Requirement already satisfied: joblib>=0.13.2 in ./opt/anaconda3/lib/python3.9/site-packages (from mlxtend) (1.2.0)\n",
      "Requirement already satisfied: scikit-learn>=1.0.2 in ./opt/anaconda3/lib/python3.9/site-packages (from mlxtend) (1.2.2)\n",
      "Requirement already satisfied: numpy>=1.16.2 in ./opt/anaconda3/lib/python3.9/site-packages (from mlxtend) (1.20.3)\n",
      "Requirement already satisfied: python-dateutil>=2.7 in ./opt/anaconda3/lib/python3.9/site-packages (from matplotlib>=3.0.0->mlxtend) (2.8.2)\n",
      "Requirement already satisfied: pyparsing>=2.2.1 in ./opt/anaconda3/lib/python3.9/site-packages (from matplotlib>=3.0.0->mlxtend) (3.0.4)\n",
      "Requirement already satisfied: cycler>=0.10 in ./opt/anaconda3/lib/python3.9/site-packages (from matplotlib>=3.0.0->mlxtend) (0.10.0)\n",
      "Requirement already satisfied: kiwisolver>=1.0.1 in ./opt/anaconda3/lib/python3.9/site-packages (from matplotlib>=3.0.0->mlxtend) (1.3.1)\n",
      "Requirement already satisfied: pillow>=6.2.0 in ./opt/anaconda3/lib/python3.9/site-packages (from matplotlib>=3.0.0->mlxtend) (8.4.0)\n",
      "Requirement already satisfied: six in ./opt/anaconda3/lib/python3.9/site-packages (from cycler>=0.10->matplotlib>=3.0.0->mlxtend) (1.16.0)\n",
      "Requirement already satisfied: pytz>=2017.3 in ./opt/anaconda3/lib/python3.9/site-packages (from pandas>=0.24.2->mlxtend) (2021.3)\n",
      "Requirement already satisfied: threadpoolctl>=2.0.0 in ./opt/anaconda3/lib/python3.9/site-packages (from scikit-learn>=1.0.2->mlxtend) (2.2.0)\n"
     ]
    }
   ],
   "source": [
    "!pip install mlxtend"
   ]
  },
  {
   "cell_type": "code",
   "execution_count": 52,
   "id": "11dc71e4",
   "metadata": {},
   "outputs": [
    {
     "data": {
      "text/plain": [
       "Index(['Row ID', 'Order ID', 'Order Date', 'Ship Date', 'Ship Mode',\n",
       "       'Customer ID', 'Customer Name', 'Segment', 'Country', 'City', 'State',\n",
       "       'Postal Code', 'Region', 'Product ID', 'Category', 'Sub-Category',\n",
       "       'Product Name', 'Sales', 'Quantity', 'Discount', 'Profit', 'Price'],\n",
       "      dtype='object')"
      ]
     },
     "execution_count": 52,
     "metadata": {},
     "output_type": "execute_result"
    }
   ],
   "source": [
    "df.columns"
   ]
  },
  {
   "cell_type": "code",
   "execution_count": null,
   "id": "baff81ec",
   "metadata": {},
   "outputs": [],
   "source": []
  },
  {
   "cell_type": "code",
   "execution_count": 53,
   "id": "bdded844",
   "metadata": {},
   "outputs": [
    {
     "name": "stdout",
     "output_type": "stream",
     "text": [
      "      support           itemsets\n",
      "0    0.001198  (FUR-BO-10000468)\n",
      "1    0.001996  (FUR-BO-10001337)\n",
      "2    0.001597  (FUR-BO-10001811)\n",
      "3    0.001397  (FUR-BO-10001972)\n",
      "4    0.001996  (FUR-BO-10002213)\n",
      "..        ...                ...\n",
      "810  0.001397  (TEC-PH-10004614)\n",
      "811  0.001198  (TEC-PH-10004667)\n",
      "812  0.001397  (TEC-PH-10004897)\n",
      "813  0.001397  (TEC-PH-10004908)\n",
      "814  0.001797  (TEC-PH-10004977)\n",
      "\n",
      "[815 rows x 2 columns]\n"
     ]
    }
   ],
   "source": [
    "# Import the required libraries\n",
    "import pandas as pd\n",
    "from mlxtend.preprocessing import TransactionEncoder\n",
    "from mlxtend.frequent_patterns import apriori\n",
    "\n",
    "# Preprocess the data\n",
    "df = df[['Order ID', 'Product ID']]\n",
    "grouped = df.groupby(['Order ID'])['Product ID'].apply(list)\n",
    "transactions = grouped.tolist()\n",
    "\n",
    "# Convert the data to a transactional format\n",
    "te = TransactionEncoder()\n",
    "te_ary = te.fit(transactions).transform(transactions)\n",
    "df = pd.DataFrame(te_ary, columns=te.columns_)\n",
    "\n",
    "# Apply the Apriori algorithm to extract frequent itemsets\n",
    "frequent_itemsets = apriori(df, min_support=0.001, use_colnames=True)\n",
    "\n",
    "# Print the frequent itemsets\n",
    "print(frequent_itemsets)\n"
   ]
  },
  {
   "cell_type": "code",
   "execution_count": 54,
   "id": "d91454ba",
   "metadata": {},
   "outputs": [
    {
     "name": "stdout",
     "output_type": "stream",
     "text": [
      "      support           itemsets\n",
      "0    0.002396  (OFF-BI-10001597)\n",
      "1    0.001597  (OFF-PA-10000176)\n",
      "2    0.002396  (OFF-BI-10000343)\n",
      "3    0.001397  (OFF-FA-10000611)\n",
      "4    0.002196  (FUR-CH-10002602)\n",
      "..        ...                ...\n",
      "810  0.001198  (TEC-PH-10003092)\n",
      "811  0.001198  (OFF-PA-10004675)\n",
      "812  0.001797  (OFF-PA-10003673)\n",
      "813  0.001198  (OFF-PA-10003127)\n",
      "814  0.001198  (FUR-FU-10002501)\n",
      "\n",
      "[815 rows x 2 columns]\n"
     ]
    }
   ],
   "source": [
    "from mlxtend.preprocessing import TransactionEncoder\n",
    "from mlxtend.frequent_patterns import fpgrowth\n",
    "\n",
    "# Preprocess the data\n",
    "te = TransactionEncoder()\n",
    "te_ary = te.fit(transactions).transform(transactions)\n",
    "df = pd.DataFrame(te_ary, columns=te.columns_)\n",
    "\n",
    "# Generate frequent itemsets using FP-Growth\n",
    "frequent_itemsets = fpgrowth(df, min_support=0.001, use_colnames=True)\n",
    "\n",
    "# Print the frequent itemsets\n",
    "print(frequent_itemsets)\n"
   ]
  },
  {
   "cell_type": "markdown",
   "id": "59805640",
   "metadata": {},
   "source": [
    "#### The first row shows that the itemset OFF-BI-10001597 appears in 0.2396% of the transactions.\n"
   ]
  },
  {
   "cell_type": "code",
   "execution_count": 55,
   "id": "abf90df0",
   "metadata": {},
   "outputs": [
    {
     "name": "stdout",
     "output_type": "stream",
     "text": [
      "Empty DataFrame\n",
      "Columns: [antecedents, consequents, antecedent support, consequent support, support, confidence, lift, leverage, conviction]\n",
      "Index: []\n"
     ]
    }
   ],
   "source": [
    "from mlxtend.frequent_patterns import association_rules\n",
    "\n",
    "# Generate association rules\n",
    "rules = association_rules(frequent_itemsets, metric='confidence', min_threshold=0.00000001)\n",
    "\n",
    "# Print the first 10 rules sorted by confidence in descending order\n",
    "print(rules.sort_values(by=['confidence'], ascending=False).head(10))\n",
    "\n"
   ]
  },
  {
   "cell_type": "code",
   "execution_count": 56,
   "id": "33403133",
   "metadata": {},
   "outputs": [
    {
     "data": {
      "image/png": "[encoded data removed]",
      "text/plain": [
       "<Figure size 432x288 with 1 Axes>"
      ]
     },
     "metadata": {
      "needs_background": "light"
     },
     "output_type": "display_data"
    }
   ],
   "source": [
    "import matplotlib.pyplot as plt\n",
    "\n",
    "# Get the top 10 frequent itemsets\n",
    "top_itemsets = frequent_itemsets.head(10)\n",
    "\n",
    "# Create a bar chart of the support values\n",
    "plt.bar(range(len(top_itemsets)), top_itemsets['support'])\n",
    "plt.xticks(range(len(top_itemsets)), top_itemsets['itemsets'].astype(str), rotation=90)\n",
    "plt.xlabel('Itemsets')\n",
    "plt.ylabel('Support')\n",
    "plt.title('Top 10 Frequent Itemsets (Apriori)')\n",
    "plt.show()\n",
    "\n"
   ]
  },
  {
   "cell_type": "markdown",
   "id": "69c5c0f8",
   "metadata": {},
   "source": [
    "# FP TREE FOR CATEGORY COLUMN"
   ]
  },
  {
   "cell_type": "markdown",
   "id": "702993d9",
   "metadata": {},
   "source": [
    "# fp"
   ]
  },
  {
   "cell_type": "code",
   "execution_count": 8,
   "id": "2b7db646",
   "metadata": {},
   "outputs": [],
   "source": [
    "import pandas as pd\n",
    "from mlxtend.preprocessing import TransactionEncoder\n",
    "from mlxtend.frequent_patterns import fpgrowth, association_rules\n"
   ]
  },
  {
   "cell_type": "code",
   "execution_count": 10,
   "id": "b49b46cf",
   "metadata": {},
   "outputs": [],
   "source": [
    "import pandas as pd\n",
    "from mlxtend.preprocessing import TransactionEncoder\n",
    "from mlxtend.frequent_patterns import fpgrowth, association_rules\n",
    "\n",
    "# Extract the necessary columns for the analysis\n",
    "df = df[['Order ID', 'Category']]\n",
    "\n",
    "# Group orders by Order ID and aggregate the categories into a list\n",
    "df = df.groupby('Order ID')['Category'].apply(list).reset_index(name='categories')\n",
    "\n",
    "# Transform the data into a list of lists, where each list represents a transaction\n",
    "transactions = df['categories'].tolist()\n",
    "\n",
    "# Transform the transaction list into a DataFrame with binary values\n",
    "te = TransactionEncoder()\n",
    "te_ary = te.fit_transform(transactions)\n",
    "df = pd.DataFrame(te_ary, columns=te.columns_)\n",
    "\n",
    "# Generate frequent itemsets with minimum support of 0.0025\n",
    "frequent_itemsets = fpgrowth(df, min_support=0.00001, use_colnames=True)\n",
    "\n",
    "# Generate association rules with minimum threshold of 0.5 for confidence and lift\n",
    "rules = association_rules(frequent_itemsets, metric=\"confidence\", min_threshold=0.005)\n"
   ]
  },
  {
   "cell_type": "code",
   "execution_count": 11,
   "id": "0ad5faf4",
   "metadata": {},
   "outputs": [
    {
     "data": {
      "text/html": [
       "<div>\n",
       "<style scoped>\n",
       "    .dataframe tbody tr th:only-of-type {\n",
       "        vertical-align: middle;\n",
       "    }\n",
       "\n",
       "    .dataframe tbody tr th {\n",
       "        vertical-align: top;\n",
       "    }\n",
       "\n",
       "    .dataframe thead th {\n",
       "        text-align: right;\n",
       "    }\n",
       "</style>\n",
       "<table border=\"1\" class=\"dataframe\">\n",
       "  <thead>\n",
       "    <tr style=\"text-align: right;\">\n",
       "      <th></th>\n",
       "      <th>support</th>\n",
       "      <th>itemsets</th>\n",
       "    </tr>\n",
       "  </thead>\n",
       "  <tbody>\n",
       "    <tr>\n",
       "      <th>0</th>\n",
       "      <td>0.308245</td>\n",
       "      <td>(Technology)</td>\n",
       "    </tr>\n",
       "    <tr>\n",
       "      <th>1</th>\n",
       "      <td>0.747055</td>\n",
       "      <td>(Office Supplies)</td>\n",
       "    </tr>\n",
       "    <tr>\n",
       "      <th>2</th>\n",
       "      <td>0.352166</td>\n",
       "      <td>(Furniture)</td>\n",
       "    </tr>\n",
       "    <tr>\n",
       "      <th>3</th>\n",
       "      <td>0.182472</td>\n",
       "      <td>(Technology, Office Supplies)</td>\n",
       "    </tr>\n",
       "    <tr>\n",
       "      <th>4</th>\n",
       "      <td>0.096227</td>\n",
       "      <td>(Furniture, Technology)</td>\n",
       "    </tr>\n",
       "    <tr>\n",
       "      <th>5</th>\n",
       "      <td>0.064684</td>\n",
       "      <td>(Furniture, Office Supplies, Technology)</td>\n",
       "    </tr>\n",
       "    <tr>\n",
       "      <th>6</th>\n",
       "      <td>0.193452</td>\n",
       "      <td>(Furniture, Office Supplies)</td>\n",
       "    </tr>\n",
       "  </tbody>\n",
       "</table>\n",
       "</div>"
      ],
      "text/plain": [
       "    support                                  itemsets\n",
       "0  0.308245                              (Technology)\n",
       "1  0.747055                         (Office Supplies)\n",
       "2  0.352166                               (Furniture)\n",
       "3  0.182472             (Technology, Office Supplies)\n",
       "4  0.096227                   (Furniture, Technology)\n",
       "5  0.064684  (Furniture, Office Supplies, Technology)\n",
       "6  0.193452              (Furniture, Office Supplies)"
      ]
     },
     "execution_count": 11,
     "metadata": {},
     "output_type": "execute_result"
    }
   ],
   "source": [
    "frequent_itemsets"
   ]
  },
  {
   "cell_type": "code",
   "execution_count": 12,
   "id": "ee0f070a",
   "metadata": {},
   "outputs": [
    {
     "data": {
      "text/html": [
       "<div>\n",
       "<style scoped>\n",
       "    .dataframe tbody tr th:only-of-type {\n",
       "        vertical-align: middle;\n",
       "    }\n",
       "\n",
       "    .dataframe tbody tr th {\n",
       "        vertical-align: top;\n",
       "    }\n",
       "\n",
       "    .dataframe thead th {\n",
       "        text-align: right;\n",
       "    }\n",
       "</style>\n",
       "<table border=\"1\" class=\"dataframe\">\n",
       "  <thead>\n",
       "    <tr style=\"text-align: right;\">\n",
       "      <th></th>\n",
       "      <th>antecedents</th>\n",
       "      <th>consequents</th>\n",
       "      <th>antecedent support</th>\n",
       "      <th>consequent support</th>\n",
       "      <th>support</th>\n",
       "      <th>confidence</th>\n",
       "      <th>lift</th>\n",
       "      <th>leverage</th>\n",
       "      <th>conviction</th>\n",
       "    </tr>\n",
       "  </thead>\n",
       "  <tbody>\n",
       "    <tr>\n",
       "      <th>0</th>\n",
       "      <td>(Technology)</td>\n",
       "      <td>(Office Supplies)</td>\n",
       "      <td>0.308245</td>\n",
       "      <td>0.747055</td>\n",
       "      <td>0.182472</td>\n",
       "      <td>0.591969</td>\n",
       "      <td>0.792403</td>\n",
       "      <td>-0.047805</td>\n",
       "      <td>0.619915</td>\n",
       "    </tr>\n",
       "    <tr>\n",
       "      <th>1</th>\n",
       "      <td>(Office Supplies)</td>\n",
       "      <td>(Technology)</td>\n",
       "      <td>0.747055</td>\n",
       "      <td>0.308245</td>\n",
       "      <td>0.182472</td>\n",
       "      <td>0.244254</td>\n",
       "      <td>0.792403</td>\n",
       "      <td>-0.047805</td>\n",
       "      <td>0.915328</td>\n",
       "    </tr>\n",
       "    <tr>\n",
       "      <th>2</th>\n",
       "      <td>(Furniture)</td>\n",
       "      <td>(Technology)</td>\n",
       "      <td>0.352166</td>\n",
       "      <td>0.308245</td>\n",
       "      <td>0.096227</td>\n",
       "      <td>0.273243</td>\n",
       "      <td>0.886446</td>\n",
       "      <td>-0.012327</td>\n",
       "      <td>0.951837</td>\n",
       "    </tr>\n",
       "    <tr>\n",
       "      <th>3</th>\n",
       "      <td>(Technology)</td>\n",
       "      <td>(Furniture)</td>\n",
       "      <td>0.308245</td>\n",
       "      <td>0.352166</td>\n",
       "      <td>0.096227</td>\n",
       "      <td>0.312176</td>\n",
       "      <td>0.886446</td>\n",
       "      <td>-0.012327</td>\n",
       "      <td>0.941860</td>\n",
       "    </tr>\n",
       "    <tr>\n",
       "      <th>4</th>\n",
       "      <td>(Furniture, Office Supplies)</td>\n",
       "      <td>(Technology)</td>\n",
       "      <td>0.193452</td>\n",
       "      <td>0.308245</td>\n",
       "      <td>0.064684</td>\n",
       "      <td>0.334365</td>\n",
       "      <td>1.084738</td>\n",
       "      <td>0.005053</td>\n",
       "      <td>1.039241</td>\n",
       "    </tr>\n",
       "    <tr>\n",
       "      <th>5</th>\n",
       "      <td>(Furniture, Technology)</td>\n",
       "      <td>(Office Supplies)</td>\n",
       "      <td>0.096227</td>\n",
       "      <td>0.747055</td>\n",
       "      <td>0.064684</td>\n",
       "      <td>0.672199</td>\n",
       "      <td>0.899798</td>\n",
       "      <td>-0.007203</td>\n",
       "      <td>0.771641</td>\n",
       "    </tr>\n",
       "    <tr>\n",
       "      <th>6</th>\n",
       "      <td>(Technology, Office Supplies)</td>\n",
       "      <td>(Furniture)</td>\n",
       "      <td>0.182472</td>\n",
       "      <td>0.352166</td>\n",
       "      <td>0.064684</td>\n",
       "      <td>0.354486</td>\n",
       "      <td>1.006587</td>\n",
       "      <td>0.000423</td>\n",
       "      <td>1.003594</td>\n",
       "    </tr>\n",
       "    <tr>\n",
       "      <th>7</th>\n",
       "      <td>(Furniture)</td>\n",
       "      <td>(Technology, Office Supplies)</td>\n",
       "      <td>0.352166</td>\n",
       "      <td>0.182472</td>\n",
       "      <td>0.064684</td>\n",
       "      <td>0.183673</td>\n",
       "      <td>1.006587</td>\n",
       "      <td>0.000423</td>\n",
       "      <td>1.001472</td>\n",
       "    </tr>\n",
       "    <tr>\n",
       "      <th>8</th>\n",
       "      <td>(Office Supplies)</td>\n",
       "      <td>(Furniture, Technology)</td>\n",
       "      <td>0.747055</td>\n",
       "      <td>0.096227</td>\n",
       "      <td>0.064684</td>\n",
       "      <td>0.086585</td>\n",
       "      <td>0.899798</td>\n",
       "      <td>-0.007203</td>\n",
       "      <td>0.989444</td>\n",
       "    </tr>\n",
       "    <tr>\n",
       "      <th>9</th>\n",
       "      <td>(Technology)</td>\n",
       "      <td>(Furniture, Office Supplies)</td>\n",
       "      <td>0.308245</td>\n",
       "      <td>0.193452</td>\n",
       "      <td>0.064684</td>\n",
       "      <td>0.209845</td>\n",
       "      <td>1.084738</td>\n",
       "      <td>0.005053</td>\n",
       "      <td>1.020746</td>\n",
       "    </tr>\n",
       "    <tr>\n",
       "      <th>10</th>\n",
       "      <td>(Furniture)</td>\n",
       "      <td>(Office Supplies)</td>\n",
       "      <td>0.352166</td>\n",
       "      <td>0.747055</td>\n",
       "      <td>0.193452</td>\n",
       "      <td>0.549320</td>\n",
       "      <td>0.735313</td>\n",
       "      <td>-0.069636</td>\n",
       "      <td>0.561251</td>\n",
       "    </tr>\n",
       "    <tr>\n",
       "      <th>11</th>\n",
       "      <td>(Office Supplies)</td>\n",
       "      <td>(Furniture)</td>\n",
       "      <td>0.747055</td>\n",
       "      <td>0.352166</td>\n",
       "      <td>0.193452</td>\n",
       "      <td>0.258952</td>\n",
       "      <td>0.735313</td>\n",
       "      <td>-0.069636</td>\n",
       "      <td>0.874214</td>\n",
       "    </tr>\n",
       "  </tbody>\n",
       "</table>\n",
       "</div>"
      ],
      "text/plain": [
       "                      antecedents                    consequents  \\\n",
       "0                    (Technology)              (Office Supplies)   \n",
       "1               (Office Supplies)                   (Technology)   \n",
       "2                     (Furniture)                   (Technology)   \n",
       "3                    (Technology)                    (Furniture)   \n",
       "4    (Furniture, Office Supplies)                   (Technology)   \n",
       "5         (Furniture, Technology)              (Office Supplies)   \n",
       "6   (Technology, Office Supplies)                    (Furniture)   \n",
       "7                     (Furniture)  (Technology, Office Supplies)   \n",
       "8               (Office Supplies)        (Furniture, Technology)   \n",
       "9                    (Technology)   (Furniture, Office Supplies)   \n",
       "10                    (Furniture)              (Office Supplies)   \n",
       "11              (Office Supplies)                    (Furniture)   \n",
       "\n",
       "    antecedent support  consequent support   support  confidence      lift  \\\n",
       "0             0.308245            0.747055  0.182472    0.591969  0.792403   \n",
       "1             0.747055            0.308245  0.182472    0.244254  0.792403   \n",
       "2             0.352166            0.308245  0.096227    0.273243  0.886446   \n",
       "3             0.308245            0.352166  0.096227    0.312176  0.886446   \n",
       "4             0.193452            0.308245  0.064684    0.334365  1.084738   \n",
       "5             0.096227            0.747055  0.064684    0.672199  0.899798   \n",
       "6             0.182472            0.352166  0.064684    0.354486  1.006587   \n",
       "7             0.352166            0.182472  0.064684    0.183673  1.006587   \n",
       "8             0.747055            0.096227  0.064684    0.086585  0.899798   \n",
       "9             0.308245            0.193452  0.064684    0.209845  1.084738   \n",
       "10            0.352166            0.747055  0.193452    0.549320  0.735313   \n",
       "11            0.747055            0.352166  0.193452    0.258952  0.735313   \n",
       "\n",
       "    leverage  conviction  \n",
       "0  -0.047805    0.619915  \n",
       "1  -0.047805    0.915328  \n",
       "2  -0.012327    0.951837  \n",
       "3  -0.012327    0.941860  \n",
       "4   0.005053    1.039241  \n",
       "5  -0.007203    0.771641  \n",
       "6   0.000423    1.003594  \n",
       "7   0.000423    1.001472  \n",
       "8  -0.007203    0.989444  \n",
       "9   0.005053    1.020746  \n",
       "10 -0.069636    0.561251  \n",
       "11 -0.069636    0.874214  "
      ]
     },
     "execution_count": 12,
     "metadata": {},
     "output_type": "execute_result"
    }
   ],
   "source": [
    "rules"
   ]
  },
  {
   "cell_type": "code",
   "execution_count": 74,
   "id": "32dbeb59",
   "metadata": {},
   "outputs": [
    {
     "data": {
      "text/html": [
       "<div>\n",
       "<style scoped>\n",
       "    .dataframe tbody tr th:only-of-type {\n",
       "        vertical-align: middle;\n",
       "    }\n",
       "\n",
       "    .dataframe tbody tr th {\n",
       "        vertical-align: top;\n",
       "    }\n",
       "\n",
       "    .dataframe thead th {\n",
       "        text-align: right;\n",
       "    }\n",
       "</style>\n",
       "<table border=\"1\" class=\"dataframe\">\n",
       "  <thead>\n",
       "    <tr style=\"text-align: right;\">\n",
       "      <th></th>\n",
       "      <th>Row ID</th>\n",
       "      <th>Order ID</th>\n",
       "      <th>Order Date</th>\n",
       "      <th>Ship Date</th>\n",
       "      <th>Ship Mode</th>\n",
       "      <th>Customer ID</th>\n",
       "      <th>Customer Name</th>\n",
       "      <th>Segment</th>\n",
       "      <th>Country</th>\n",
       "      <th>City</th>\n",
       "      <th>...</th>\n",
       "      <th>Postal Code</th>\n",
       "      <th>Region</th>\n",
       "      <th>Product ID</th>\n",
       "      <th>Category</th>\n",
       "      <th>Sub-Category</th>\n",
       "      <th>Product Name</th>\n",
       "      <th>Sales</th>\n",
       "      <th>Quantity</th>\n",
       "      <th>Discount</th>\n",
       "      <th>Profit</th>\n",
       "    </tr>\n",
       "  </thead>\n",
       "  <tbody>\n",
       "    <tr>\n",
       "      <th>0</th>\n",
       "      <td>1</td>\n",
       "      <td>CA-2016-152156</td>\n",
       "      <td>11/8/2016</td>\n",
       "      <td>11/11/2016</td>\n",
       "      <td>Second Class</td>\n",
       "      <td>CG-12520</td>\n",
       "      <td>Claire Gute</td>\n",
       "      <td>Consumer</td>\n",
       "      <td>United States</td>\n",
       "      <td>Henderson</td>\n",
       "      <td>...</td>\n",
       "      <td>42420</td>\n",
       "      <td>South</td>\n",
       "      <td>FUR-BO-10001798</td>\n",
       "      <td>Furniture</td>\n",
       "      <td>Bookcases</td>\n",
       "      <td>Bush Somerset Collection Bookcase</td>\n",
       "      <td>261.9600</td>\n",
       "      <td>2</td>\n",
       "      <td>0.00</td>\n",
       "      <td>41.9136</td>\n",
       "    </tr>\n",
       "    <tr>\n",
       "      <th>1</th>\n",
       "      <td>2</td>\n",
       "      <td>CA-2016-152156</td>\n",
       "      <td>11/8/2016</td>\n",
       "      <td>11/11/2016</td>\n",
       "      <td>Second Class</td>\n",
       "      <td>CG-12520</td>\n",
       "      <td>Claire Gute</td>\n",
       "      <td>Consumer</td>\n",
       "      <td>United States</td>\n",
       "      <td>Henderson</td>\n",
       "      <td>...</td>\n",
       "      <td>42420</td>\n",
       "      <td>South</td>\n",
       "      <td>FUR-CH-10000454</td>\n",
       "      <td>Furniture</td>\n",
       "      <td>Chairs</td>\n",
       "      <td>Hon Deluxe Fabric Upholstered Stacking Chairs,...</td>\n",
       "      <td>731.9400</td>\n",
       "      <td>3</td>\n",
       "      <td>0.00</td>\n",
       "      <td>219.5820</td>\n",
       "    </tr>\n",
       "    <tr>\n",
       "      <th>2</th>\n",
       "      <td>3</td>\n",
       "      <td>CA-2016-138688</td>\n",
       "      <td>6/12/2016</td>\n",
       "      <td>6/16/2016</td>\n",
       "      <td>Second Class</td>\n",
       "      <td>DV-13045</td>\n",
       "      <td>Darrin Van Huff</td>\n",
       "      <td>Corporate</td>\n",
       "      <td>United States</td>\n",
       "      <td>Los Angeles</td>\n",
       "      <td>...</td>\n",
       "      <td>90036</td>\n",
       "      <td>West</td>\n",
       "      <td>OFF-LA-10000240</td>\n",
       "      <td>Office Supplies</td>\n",
       "      <td>Labels</td>\n",
       "      <td>Self-Adhesive Address Labels for Typewriters b...</td>\n",
       "      <td>14.6200</td>\n",
       "      <td>2</td>\n",
       "      <td>0.00</td>\n",
       "      <td>6.8714</td>\n",
       "    </tr>\n",
       "    <tr>\n",
       "      <th>3</th>\n",
       "      <td>4</td>\n",
       "      <td>US-2015-108966</td>\n",
       "      <td>10/11/2015</td>\n",
       "      <td>10/18/2015</td>\n",
       "      <td>Standard Class</td>\n",
       "      <td>SO-20335</td>\n",
       "      <td>Sean O'Donnell</td>\n",
       "      <td>Consumer</td>\n",
       "      <td>United States</td>\n",
       "      <td>Fort Lauderdale</td>\n",
       "      <td>...</td>\n",
       "      <td>33311</td>\n",
       "      <td>South</td>\n",
       "      <td>FUR-TA-10000577</td>\n",
       "      <td>Furniture</td>\n",
       "      <td>Tables</td>\n",
       "      <td>Bretford CR4500 Series Slim Rectangular Table</td>\n",
       "      <td>957.5775</td>\n",
       "      <td>5</td>\n",
       "      <td>0.45</td>\n",
       "      <td>-383.0310</td>\n",
       "    </tr>\n",
       "    <tr>\n",
       "      <th>4</th>\n",
       "      <td>5</td>\n",
       "      <td>US-2015-108966</td>\n",
       "      <td>10/11/2015</td>\n",
       "      <td>10/18/2015</td>\n",
       "      <td>Standard Class</td>\n",
       "      <td>SO-20335</td>\n",
       "      <td>Sean O'Donnell</td>\n",
       "      <td>Consumer</td>\n",
       "      <td>United States</td>\n",
       "      <td>Fort Lauderdale</td>\n",
       "      <td>...</td>\n",
       "      <td>33311</td>\n",
       "      <td>South</td>\n",
       "      <td>OFF-ST-10000760</td>\n",
       "      <td>Office Supplies</td>\n",
       "      <td>Storage</td>\n",
       "      <td>Eldon Fold 'N Roll Cart System</td>\n",
       "      <td>22.3680</td>\n",
       "      <td>2</td>\n",
       "      <td>0.20</td>\n",
       "      <td>2.5164</td>\n",
       "    </tr>\n",
       "  </tbody>\n",
       "</table>\n",
       "<p>5 rows × 21 columns</p>\n",
       "</div>"
      ],
      "text/plain": [
       "   Row ID        Order ID  Order Date   Ship Date       Ship Mode Customer ID  \\\n",
       "0       1  CA-2016-152156   11/8/2016  11/11/2016    Second Class    CG-12520   \n",
       "1       2  CA-2016-152156   11/8/2016  11/11/2016    Second Class    CG-12520   \n",
       "2       3  CA-2016-138688   6/12/2016   6/16/2016    Second Class    DV-13045   \n",
       "3       4  US-2015-108966  10/11/2015  10/18/2015  Standard Class    SO-20335   \n",
       "4       5  US-2015-108966  10/11/2015  10/18/2015  Standard Class    SO-20335   \n",
       "\n",
       "     Customer Name    Segment        Country             City  ...  \\\n",
       "0      Claire Gute   Consumer  United States        Henderson  ...   \n",
       "1      Claire Gute   Consumer  United States        Henderson  ...   \n",
       "2  Darrin Van Huff  Corporate  United States      Los Angeles  ...   \n",
       "3   Sean O'Donnell   Consumer  United States  Fort Lauderdale  ...   \n",
       "4   Sean O'Donnell   Consumer  United States  Fort Lauderdale  ...   \n",
       "\n",
       "  Postal Code  Region       Product ID         Category Sub-Category  \\\n",
       "0       42420   South  FUR-BO-10001798        Furniture    Bookcases   \n",
       "1       42420   South  FUR-CH-10000454        Furniture       Chairs   \n",
       "2       90036    West  OFF-LA-10000240  Office Supplies       Labels   \n",
       "3       33311   South  FUR-TA-10000577        Furniture       Tables   \n",
       "4       33311   South  OFF-ST-10000760  Office Supplies      Storage   \n",
       "\n",
       "                                        Product Name     Sales  Quantity  \\\n",
       "0                  Bush Somerset Collection Bookcase  261.9600         2   \n",
       "1  Hon Deluxe Fabric Upholstered Stacking Chairs,...  731.9400         3   \n",
       "2  Self-Adhesive Address Labels for Typewriters b...   14.6200         2   \n",
       "3      Bretford CR4500 Series Slim Rectangular Table  957.5775         5   \n",
       "4                     Eldon Fold 'N Roll Cart System   22.3680         2   \n",
       "\n",
       "   Discount    Profit  \n",
       "0      0.00   41.9136  \n",
       "1      0.00  219.5820  \n",
       "2      0.00    6.8714  \n",
       "3      0.45 -383.0310  \n",
       "4      0.20    2.5164  \n",
       "\n",
       "[5 rows x 21 columns]"
      ]
     },
     "execution_count": 74,
     "metadata": {},
     "output_type": "execute_result"
    }
   ],
   "source": [
    "df.head()"
   ]
  },
  {
   "cell_type": "code",
   "execution_count": 94,
   "id": "538cd153",
   "metadata": {},
   "outputs": [
    {
     "data": {
      "text/plain": [
       "['Furniture', 'Office Supplies', 'Technology']"
      ]
     },
     "execution_count": 94,
     "metadata": {},
     "output_type": "execute_result"
    }
   ],
   "source": [
    "list(df.columns)"
   ]
  },
  {
   "cell_type": "markdown",
   "id": "5f5604bc",
   "metadata": {},
   "source": [
    "# UPSELLING FINAL"
   ]
  },
  {
   "cell_type": "code",
   "execution_count": 101,
   "id": "5c531fba",
   "metadata": {},
   "outputs": [],
   "source": [
    "import pandas as pd\n",
    "from prettytable import PrettyTable\n",
    "\n",
    "\n",
    "def get_upsell_recommendations(customer_id, num_recommendations=1):\n",
    "    # Get the customer's past orders\n",
    "    customer_orders = df[df['Customer ID'] == customer_id]\n",
    "\n",
    "    # Get the last purchased product\n",
    "    purchased_product = customer_orders.tail(1)['Product Name'].iloc[0]\n",
    "\n",
    "    # Get the category, subcategory, and price of the purchased product\n",
    "    purchased_category = customer_orders[customer_orders['Product Name'] == purchased_product]['Category'].iloc[0]\n",
    "    purchased_subcategory = customer_orders[customer_orders['Product Name'] == purchased_product]['Sub-Category'].iloc[0]\n",
    "    purchased_price = customer_orders[customer_orders['Product Name'] == purchased_product]['Sales'].iloc[0]\n",
    "\n",
    "    # Get all products within the same category and subcategory\n",
    "    category_products = df[(df['Category'] == purchased_category) & (df['Sub-Category'] == purchased_subcategory)]\n",
    "\n",
    "    # Filter out products that are lower-priced than the purchased product\n",
    "    higher_priced_products = category_products[category_products['Sales'] > purchased_price]\n",
    "\n",
    "    # Sort the higher-priced products by price\n",
    "    sorted_products = higher_priced_products.sort_values('Sales')\n",
    "\n",
    "    # Get the top recommended products\n",
    "    recommended_products = sorted_products.head(num_recommendations)\n",
    "\n",
    "    # Get the history of the customer's past purchases\n",
    "    purchase_history = customer_orders[['Category','Sub-Category','Product Name', 'Sales']].drop_duplicates().sort_values('Sales', ascending=False)\n",
    "\n",
    "    # Create a pretty table for the recommendations\n",
    "    recommended_table = PrettyTable()\n",
    "    recommended_table.field_names = [\"Category\", \"Sub-Category\", \"Product Name\", \"Price\"]\n",
    "    for index, row in recommended_products.iterrows():\n",
    "        recommended_table.add_row([row['Category'], row['Sub-Category'], row['Product Name'], row['Sales']])\n",
    "\n",
    "    # Create a pretty table for the purchase history\n",
    "    history_table = PrettyTable()\n",
    "    history_table.field_names = [\"Category\", \"Sub-Category\", \"Product Name\", \"Price\"]\n",
    "    for index, row in purchase_history.iterrows():\n",
    "        history_table.add_row([row['Category'], row['Sub-Category'], row['Product Name'], row['Sales']])\n",
    "\n",
    "    # Return the recommendations and purchase history\n",
    "    return recommended_table, history_table\n"
   ]
  },
  {
   "cell_type": "code",
   "execution_count": 104,
   "id": "db486105",
   "metadata": {},
   "outputs": [
    {
     "name": "stdout",
     "output_type": "stream",
     "text": [
      "Recommended Products:\n",
      "+-----------------+--------------+----------------------------------------------------------------------+--------+\n",
      "|     Category    | Sub-Category |                             Product Name                             | Price  |\n",
      "+-----------------+--------------+----------------------------------------------------------------------+--------+\n",
      "| Office Supplies |    Paper     |         Southworth 25% Cotton Antique Laid Paper & Envelopes         | 40.032 |\n",
      "| Office Supplies |    Paper     | REDIFORM Incoming/Outgoing Call Register, 11\" X 8 1/2\", 100 Messages | 40.032 |\n",
      "| Office Supplies |    Paper     |                              Xerox 195                               | 40.08  |\n",
      "+-----------------+--------------+----------------------------------------------------------------------+--------+\n",
      "\n",
      "Purchase History:\n",
      "+-----------------+--------------+---------------------------------------------------------------------+--------+\n",
      "|     Category    | Sub-Category |                             Product Name                            | Price  |\n",
      "+-----------------+--------------+---------------------------------------------------------------------+--------+\n",
      "|    Technology   | Accessories  |                    Logitech diNovo Edge Keyboard                    | 499.98 |\n",
      "|    Technology   | Accessories  |   Kensington SlimBlade Notebook Wireless Mouse with Nano Receiver   | 149.97 |\n",
      "|    Technology   |    Phones    |     Dexim XPower Skin Super-Thin Power Case for iPhone 5 - Black    | 116.98 |\n",
      "| Office Supplies |   Storage    |                     Portfile Personal File Boxes                    | 84.96  |\n",
      "| Office Supplies |    Paper     |                              Xerox 191                              | 39.96  |\n",
      "| Office Supplies |   Binders    |       Avery Premier Heavy-Duty Binder with Round Locking Rings      | 34.272 |\n",
      "|    Furniture    | Furnishings  |                        Coloredge Poster Frame                       |  28.4  |\n",
      "| Office Supplies |    Paper     |                              Xerox 1895                             | 17.94  |\n",
      "| Office Supplies |    Paper     |             Avoid Verbal Orders Carbonless Minifold Book            |  16.9  |\n",
      "| Office Supplies |   Storage    |                 Sterilite Officeware Hinged File Box                | 16.768 |\n",
      "| Office Supplies |   Binders    |                       ACCOHIDE Binder by Acco                       | 16.52  |\n",
      "| Office Supplies |   Binders    |                    Clear Mylar Reinforcing Strips                   | 14.952 |\n",
      "| Office Supplies |   Binders    |                   ACCOHIDE 3-Ring Binder, Blue, 1\"                  |  8.26  |\n",
      "| Office Supplies |    Paper     | Xerox 4200 Series MultiUse Premium Copy Paper (20Lb. and 84 Bright) |  5.28  |\n",
      "| Office Supplies |     Art      |                              Newell 321                             | 5.248  |\n",
      "+-----------------+--------------+---------------------------------------------------------------------+--------+\n"
     ]
    }
   ],
   "source": [
    "# Call the function to generate recommendations for a customer\n",
    "customer_id = 'AA-10375'\n",
    "num_recommendations = 3\n",
    "recommended_table, history_table = get_upsell_recommendations(customer_id, num_recommendations)\n",
    "\n",
    "# Print the tables\n",
    "print(\"Recommended Products:\")\n",
    "print(recommended_table)\n",
    "print(\"\\nPurchase History:\")\n",
    "print(history_table)"
   ]
  },
  {
   "cell_type": "code",
   "execution_count": null,
   "id": "588549da",
   "metadata": {},
   "outputs": [],
   "source": []
  },
  {
   "cell_type": "markdown",
   "id": "fd5a7f0c",
   "metadata": {},
   "source": [
    "# CROSS SELLING FINALL"
   ]
  },
  {
   "cell_type": "code",
   "execution_count": 120,
   "id": "5cf861ab",
   "metadata": {},
   "outputs": [],
   "source": [
    "\n",
    "\n",
    "def generate_recommendations(customer_id, num_recommendations=1):\n",
    "    # Filter the data to only include the specified customer's orders\n",
    "    customer_orders = df[df['Customer ID'] == customer_id]\n",
    "\n",
    "    # Get the history of the customer's past purchases\n",
    "    purchase_history = customer_orders[['Category','Sub-Category','Product Name', 'Sales']].drop_duplicates().sort_values('Sales', ascending=False)\n",
    "    purchase_table = PrettyTable()\n",
    "    purchase_table.field_names = [\"Category\", \"Sub-Category\", \"Product Name\", \"Sales\"]\n",
    "    for _, row in purchase_history.iterrows():\n",
    "        purchase_table.add_row(row.tolist())\n",
    "\n",
    "    # Group the items by order and aggregate them into a list\n",
    "    itemsets = customer_orders.groupby('Order ID')['Sub-Category'].apply(list).tolist()\n",
    "\n",
    "    # Transform the list of itemsets into a binary DataFrame\n",
    "    te = TransactionEncoder()\n",
    "    te_ary = te.fit_transform(itemsets)\n",
    "    binary_df = pd.DataFrame(te_ary, columns=te.columns_)\n",
    "\n",
    "    # Convert the binary DataFrame to a boolean DataFrame\n",
    "    bool_df = binary_df.astype(bool)\n",
    "\n",
    "    # Generate frequent itemsets with minimum support of 0.0025\n",
    "    frequent_itemsets = fpgrowth(bool_df, min_support=0.0025, use_colnames=True)\n",
    "\n",
    "    # Generate association rules with minimum threshold of 0.5 for confidence and lift\n",
    "    rules = association_rules(frequent_itemsets, metric=\"confidence\", min_threshold=0.5)\n",
    "\n",
    "    # Filter the rules to only include those that contain the customer's items\n",
    "    filtered_rules = rules[rules['antecedents'].apply(lambda x: customer_orders['Sub-Category'].isin(x).any())]\n",
    "\n",
    "    # Sort the rules by confidence and lift\n",
    "    sorted_rules = filtered_rules.sort_values(['confidence', 'lift'], ascending=[False, False])\n",
    "\n",
    "    # Extract the recommended items from the top rules\n",
    "    if len(sorted_rules) > 0:\n",
    "        recommended_items = list(sorted_rules.iloc[:num_recommendations]['consequents'])\n",
    "        recommendation_table = PrettyTable()\n",
    "        recommendation_table.field_names = [\"Category\", \"Sub-Category\", \"Product Name\"]\n",
    "        for recommended_item in recommended_items:\n",
    "            recommended_subcategory = list(recommended_item)[0]\n",
    "            recommended_product_name = df[df['Sub-Category'] == recommended_subcategory]['Product Name'].iloc[0]\n",
    "            recommended_category = df[df['Sub-Category'] == recommended_subcategory]['Category'].iloc[0]\n",
    "            recommendation_table.add_row([recommended_category, recommended_subcategory, recommended_product_name])\n",
    "        return recommendation_table, purchase_table\n",
    "    else:\n",
    "        return \"No recommendations found.\", purchase_table\n"
   ]
  },
  {
   "cell_type": "code",
   "execution_count": 121,
   "id": "9a114ef7",
   "metadata": {},
   "outputs": [
    {
     "name": "stdout",
     "output_type": "stream",
     "text": [
      "Recommended items:\n",
      " +-----------------+--------------+------------------------------------------------------+\n",
      "|     Category    | Sub-Category |                     Product Name                     |\n",
      "+-----------------+--------------+------------------------------------------------------+\n",
      "|    Technology   | Accessories  |   Imation 8GB Mini TravelDrive USB 2.0 Flash Drive   |\n",
      "| Office Supplies |   Binders    | DXL Angle-View Binders with Locking Rings by Samsill |\n",
      "| Office Supplies |    Paper     |                      Xerox 1967                      |\n",
      "+-----------------+--------------+------------------------------------------------------+\n",
      "\n",
      "Purchase history:\n",
      " +-----------------+--------------+---------------------------------------------------------------------+--------+\n",
      "|     Category    | Sub-Category |                             Product Name                            | Sales  |\n",
      "+-----------------+--------------+---------------------------------------------------------------------+--------+\n",
      "|    Technology   | Accessories  |                    Logitech diNovo Edge Keyboard                    | 499.98 |\n",
      "|    Technology   | Accessories  |   Kensington SlimBlade Notebook Wireless Mouse with Nano Receiver   | 149.97 |\n",
      "|    Technology   |    Phones    |     Dexim XPower Skin Super-Thin Power Case for iPhone 5 - Black    | 116.98 |\n",
      "| Office Supplies |   Storage    |                     Portfile Personal File Boxes                    | 84.96  |\n",
      "| Office Supplies |    Paper     |                              Xerox 191                              | 39.96  |\n",
      "| Office Supplies |   Binders    |       Avery Premier Heavy-Duty Binder with Round Locking Rings      | 34.272 |\n",
      "|    Furniture    | Furnishings  |                        Coloredge Poster Frame                       |  28.4  |\n",
      "| Office Supplies |    Paper     |                              Xerox 1895                             | 17.94  |\n",
      "| Office Supplies |    Paper     |             Avoid Verbal Orders Carbonless Minifold Book            |  16.9  |\n",
      "| Office Supplies |   Storage    |                 Sterilite Officeware Hinged File Box                | 16.768 |\n",
      "| Office Supplies |   Binders    |                       ACCOHIDE Binder by Acco                       | 16.52  |\n",
      "| Office Supplies |   Binders    |                    Clear Mylar Reinforcing Strips                   | 14.952 |\n",
      "| Office Supplies |   Binders    |                   ACCOHIDE 3-Ring Binder, Blue, 1\"                  |  8.26  |\n",
      "| Office Supplies |    Paper     | Xerox 4200 Series MultiUse Premium Copy Paper (20Lb. and 84 Bright) |  5.28  |\n",
      "| Office Supplies |     Art      |                              Newell 321                             | 5.248  |\n",
      "+-----------------+--------------+---------------------------------------------------------------------+--------+\n"
     ]
    }
   ],
   "source": [
    "rec_table, history_table = generate_recommendations(customer_id='AA-10375', num_recommendations=3)\n",
    "print(\"Recommended items:\\n\", rec_table)\n",
    "print(\"\\nPurchase history:\\n\", history_table)\n"
   ]
  },
  {
   "cell_type": "markdown",
   "id": "18bf4135",
   "metadata": {},
   "source": [
    "# STREAMLIT"
   ]
  },
  {
   "cell_type": "code",
   "execution_count": null,
   "id": "934479e3",
   "metadata": {},
   "outputs": [],
   "source": []
  }
 ],
 "metadata": {
  "kernelspec": {
   "display_name": "Python 3 (ipykernel)",
   "language": "python",
   "name": "python3"
  },
  "language_info": {
   "codemirror_mode": {
    "name": "ipython",
    "version": 3
   },
   "file_extension": ".py",
   "mimetype": "text/x-python",
   "name": "python",
   "nbconvert_exporter": "python",
   "pygments_lexer": "ipython3",
   "version": "3.9.7"
  }
 },
 "nbformat": 4,
 "nbformat_minor": 5
}
